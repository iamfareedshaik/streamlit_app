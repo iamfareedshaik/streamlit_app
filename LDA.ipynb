{
  "nbformat": 4,
  "nbformat_minor": 0,
  "metadata": {
    "colab": {
      "provenance": [],
      "authorship_tag": "ABX9TyPy1Oc3WyLuBdMXKiGfo71D",
      "include_colab_link": true
    },
    "kernelspec": {
      "name": "python3",
      "display_name": "Python 3"
    },
    "language_info": {
      "name": "python"
    }
  },
  "cells": [
    {
      "cell_type": "markdown",
      "metadata": {
        "id": "view-in-github",
        "colab_type": "text"
      },
      "source": [
        "<a href=\"https://colab.research.google.com/github/iamfareedshaik/streamlit_app/blob/main/LDA.ipynb\" target=\"_parent\"><img src=\"https://colab.research.google.com/assets/colab-badge.svg\" alt=\"Open In Colab\"/></a>"
      ]
    },
    {
      "cell_type": "code",
      "execution_count": null,
      "metadata": {
        "colab": {
          "base_uri": "https://localhost:8080/"
        },
        "id": "9Wb6bVyAQ1ED",
        "outputId": "30ce0a67-0315-4789-8f79-7fce5daad5f6"
      },
      "outputs": [
        {
          "output_type": "stream",
          "name": "stdout",
          "text": [
            "Mounted at /content/drive\n"
          ]
        }
      ],
      "source": [
        "from google.colab import drive\n",
        "drive.mount('/content/drive')"
      ]
    },
    {
      "cell_type": "code",
      "source": [
        "pip install python-docx"
      ],
      "metadata": {
        "colab": {
          "base_uri": "https://localhost:8080/"
        },
        "id": "kyZvHwBaRRY4",
        "outputId": "b99c7ee4-b9ce-42ba-a56b-492364a5560f"
      },
      "execution_count": null,
      "outputs": [
        {
          "output_type": "stream",
          "name": "stdout",
          "text": [
            "Requirement already satisfied: python-docx in /usr/local/lib/python3.10/dist-packages (1.1.0)\n",
            "Requirement already satisfied: lxml>=3.1.0 in /usr/local/lib/python3.10/dist-packages (from python-docx) (4.9.4)\n",
            "Requirement already satisfied: typing-extensions in /usr/local/lib/python3.10/dist-packages (from python-docx) (4.9.0)\n"
          ]
        }
      ]
    },
    {
      "cell_type": "code",
      "source": [
        "import os\n",
        "import nltk\n",
        "from nltk.corpus import stopwords\n",
        "from nltk.tokenize import word_tokenize\n",
        "from nltk.stem import WordNetLemmatizer\n",
        "from gensim import corpora, models\n",
        "from pprint import pprint\n",
        "from docx import Document\n",
        "import pandas as pd\n",
        "from sklearn.feature_extraction.text import CountVectorizer\n",
        "from sklearn.metrics.pairwise import cosine_similarity\n",
        "from collections import Counter"
      ],
      "metadata": {
        "id": "DXHgP__ZVDMT"
      },
      "execution_count": null,
      "outputs": []
    },
    {
      "cell_type": "code",
      "source": [
        "nltk.download('punkt')\n",
        "nltk.download('stopwords')\n",
        "nltk.download('wordnet')"
      ],
      "metadata": {
        "colab": {
          "base_uri": "https://localhost:8080/"
        },
        "id": "BrIEf5bIVnzg",
        "outputId": "6db82ec5-913a-491b-e0ff-d4dc451ce042"
      },
      "execution_count": null,
      "outputs": [
        {
          "output_type": "stream",
          "name": "stderr",
          "text": [
            "[nltk_data] Downloading package punkt to /root/nltk_data...\n",
            "[nltk_data]   Unzipping tokenizers/punkt.zip.\n",
            "[nltk_data] Downloading package stopwords to /root/nltk_data...\n",
            "[nltk_data]   Unzipping corpora/stopwords.zip.\n",
            "[nltk_data] Downloading package wordnet to /root/nltk_data...\n"
          ]
        },
        {
          "output_type": "execute_result",
          "data": {
            "text/plain": [
              "True"
            ]
          },
          "metadata": {},
          "execution_count": 12
        }
      ]
    },
    {
      "cell_type": "code",
      "source": [
        "# Set up NLTK\n",
        "stop_words = set(stopwords.words('english'))\n",
        "lemmatizer = WordNetLemmatizer()"
      ],
      "metadata": {
        "id": "CcCHBKGdV-n0"
      },
      "execution_count": null,
      "outputs": []
    },
    {
      "cell_type": "code",
      "source": [
        "# Function to preprocess text\n",
        "def preprocess_text(text):\n",
        "    # Tokenize text\n",
        "    tokens = word_tokenize(text.lower())\n",
        "\n",
        "    # Remove stopwords and single-character tokens\n",
        "    tokens = [token for token in tokens if token not in stop_words and len(token) > 1]\n",
        "\n",
        "    # Lemmatize tokens\n",
        "    tokens = [lemmatizer.lemmatize(token) for token in tokens]\n",
        "\n",
        "    return tokens"
      ],
      "metadata": {
        "id": "cTJui8jLWHrS"
      },
      "execution_count": null,
      "outputs": []
    },
    {
      "cell_type": "code",
      "source": [
        "def process_document(document_path):\n",
        "    # Read and preprocess text from the document\n",
        "    doc = Document(document_path)\n",
        "    text = \"\"\n",
        "    for paragraph in doc.paragraphs:\n",
        "        text += paragraph.text\n",
        "    preprocessed_text = preprocess_text(text)\n",
        "    return preprocessed_text"
      ],
      "metadata": {
        "id": "QWW0a3UtWJcI"
      },
      "execution_count": null,
      "outputs": []
    },
    {
      "cell_type": "code",
      "source": [
        "folder_path = '/content/drive/MyDrive/Programs Docs'"
      ],
      "metadata": {
        "id": "7LygD08FWdz_"
      },
      "execution_count": null,
      "outputs": []
    },
    {
      "cell_type": "code",
      "source": [
        "document_topics = {}\n",
        "for filename in os.listdir(folder_path):\n",
        "  file_path = os.path.join(folder_path, filename)\n",
        "  if os.path.isfile(file_path) and filename.endswith('.docx'):\n",
        "    preprocessed_document = process_document(file_path)\n",
        "    dictionary = corpora.Dictionary([preprocessed_document])\n",
        "    corpus = [dictionary.doc2bow(preprocessed_document)]\n",
        "    lda_model = models.LdaModel(corpus, num_topics=5, id2word=dictionary)\n",
        "    topics = []\n",
        "    print(lda_model.print_topics())\n",
        "    for topic_num, topic in lda_model.print_topics():\n",
        "\n",
        "      topic_words = [word.split('\"')[1] for word in topic.split('+')]\n",
        "      topics.extend(topic_words)\n",
        "    topics = list(set(topics))\n",
        "    document_topics[filename] = topics"
      ],
      "metadata": {
        "colab": {
          "base_uri": "https://localhost:8080/"
        },
        "id": "KPnFCWbzWjJY",
        "outputId": "e6b594b2-7f80-43df-e00b-f142653d4e8a"
      },
      "execution_count": null,
      "outputs": [
        {
          "output_type": "stream",
          "name": "stderr",
          "text": [
            "WARNING:gensim.models.ldamodel:too few updates, training might not converge; consider increasing the number of passes or iterations to improve accuracy\n"
          ]
        },
        {
          "output_type": "stream",
          "name": "stdout",
          "text": [
            "[(0, '0.059*\"health\" + 0.038*\"information\" + 0.034*\"credit\" + 0.020*\"technology\" + 0.020*\"system\" + 0.019*\"management\" + 0.015*\"care\" + 0.010*\"course\" + 0.010*\"design\" + 0.010*\"practice\"'), (1, '0.028*\"health\" + 0.014*\"credit\" + 0.012*\"system\" + 0.011*\"management\" + 0.011*\"information\" + 0.009*\"technology\" + 0.006*\"application\" + 0.006*\"course\" + 0.006*\"public\" + 0.006*\"care\"'), (2, '0.047*\"health\" + 0.029*\"information\" + 0.026*\"credit\" + 0.019*\"management\" + 0.018*\"system\" + 0.012*\"technology\" + 0.011*\"course\" + 0.011*\"application\" + 0.009*\"care\" + 0.008*\"public\"'), (3, '0.061*\"health\" + 0.026*\"system\" + 0.025*\"credit\" + 0.024*\"management\" + 0.024*\"information\" + 0.022*\"technology\" + 0.014*\"public\" + 0.012*\"practice\" + 0.012*\"care\" + 0.010*\"application\"'), (4, '0.050*\"health\" + 0.024*\"credit\" + 0.017*\"management\" + 0.017*\"information\" + 0.017*\"system\" + 0.015*\"technology\" + 0.010*\"public\" + 0.010*\"course\" + 0.008*\"care\" + 0.007*\"issue\"')]\n"
          ]
        },
        {
          "output_type": "stream",
          "name": "stderr",
          "text": [
            "WARNING:gensim.models.ldamodel:too few updates, training might not converge; consider increasing the number of passes or iterations to improve accuracy\n"
          ]
        },
        {
          "output_type": "stream",
          "name": "stdout",
          "text": [
            "[(0, '0.029*\"health\" + 0.024*\"care\" + 0.023*\"course\" + 0.022*\"informatics\" + 0.020*\"credit\" + 0.017*\"hour\" + 0.013*\"student\" + 0.011*\"system\" + 0.010*\"technology\" + 0.009*\"information\"'), (1, '0.034*\"health\" + 0.032*\"care\" + 0.028*\"informatics\" + 0.022*\"hour\" + 0.019*\"course\" + 0.017*\"credit\" + 0.012*\"student\" + 0.012*\"data\" + 0.011*\"management\" + 0.010*\"area\"'), (2, '0.026*\"health\" + 0.021*\"care\" + 0.015*\"course\" + 0.015*\"hour\" + 0.014*\"informatics\" + 0.012*\"credit\" + 0.010*\"student\" + 0.010*\"management\" + 0.009*\"decision\" + 0.008*\"data\"'), (3, '0.043*\"care\" + 0.031*\"health\" + 0.021*\"course\" + 0.019*\"credit\" + 0.019*\"informatics\" + 0.018*\"hour\" + 0.013*\"student\" + 0.011*\"management\" + 0.010*\"system\" + 0.009*\"information\"'), (4, '0.051*\"health\" + 0.044*\"care\" + 0.027*\"hour\" + 0.024*\"course\" + 0.024*\"credit\" + 0.021*\"informatics\" + 0.014*\"data\" + 0.013*\"student\" + 0.013*\"system\" + 0.012*\"management\"')]\n"
          ]
        },
        {
          "output_type": "stream",
          "name": "stderr",
          "text": [
            "WARNING:gensim.models.ldamodel:too few updates, training might not converge; consider increasing the number of passes or iterations to improve accuracy\n"
          ]
        },
        {
          "output_type": "stream",
          "name": "stdout",
          "text": [
            "[(0, '0.030*\"informatics\" + 0.022*\"project\" + 0.020*\"health\" + 0.019*\"data\" + 0.018*\"method\" + 0.017*\"capstone\" + 0.013*\"development\" + 0.012*\"problem\" + 0.011*\"research\" + 0.010*\"system\"'), (1, '0.013*\"health\" + 0.012*\"capstone\" + 0.011*\"informatics\" + 0.011*\"project\" + 0.011*\"problem\" + 0.010*\"data\" + 0.010*\"method\" + 0.009*\"healthcare\" + 0.008*\"development\" + 0.008*\"application\"'), (2, '0.029*\"health\" + 0.020*\"capstone\" + 0.019*\"project\" + 0.019*\"informatics\" + 0.019*\"data\" + 0.018*\"research\" + 0.017*\"method\" + 0.016*\"healthcare\" + 0.015*\"development\" + 0.011*\"problem\"'), (3, '0.024*\"health\" + 0.021*\"project\" + 0.016*\"informatics\" + 0.015*\"data\" + 0.013*\"capstone\" + 0.012*\"development\" + 0.012*\"healthcare\" + 0.012*\"problem\" + 0.012*\"research\" + 0.011*\"system\"'), (4, '0.020*\"health\" + 0.019*\"project\" + 0.017*\"research\" + 0.015*\"capstone\" + 0.015*\"data\" + 0.014*\"informatics\" + 0.014*\"development\" + 0.012*\"course\" + 0.012*\"application\" + 0.012*\"healthcare\"')]\n"
          ]
        },
        {
          "output_type": "stream",
          "name": "stderr",
          "text": [
            "WARNING:gensim.models.ldamodel:too few updates, training might not converge; consider increasing the number of passes or iterations to improve accuracy\n"
          ]
        },
        {
          "output_type": "stream",
          "name": "stdout",
          "text": [
            "[(0, '0.035*\"health\" + 0.015*\"management\" + 0.012*\"course\" + 0.012*\"care\" + 0.010*\"system\" + 0.009*\"information\" + 0.009*\"informatics\" + 0.009*\"technology\" + 0.008*\"healthcare\" + 0.008*\"cr\"'), (1, '0.027*\"health\" + 0.015*\"course\" + 0.014*\"management\" + 0.012*\"care\" + 0.010*\"informatics\" + 0.009*\"technology\" + 0.009*\"system\" + 0.009*\"cr\" + 0.008*\"healthcare\" + 0.008*\"technique\"'), (2, '0.042*\"health\" + 0.017*\"course\" + 0.015*\"management\" + 0.013*\"care\" + 0.012*\"information\" + 0.010*\"healthcare\" + 0.009*\"technology\" + 0.008*\"cr\" + 0.008*\"technique\" + 0.008*\"data\"'), (3, '0.036*\"health\" + 0.016*\"care\" + 0.013*\"management\" + 0.013*\"informatics\" + 0.013*\"course\" + 0.011*\"cr\" + 0.009*\"information\" + 0.009*\"healthcare\" + 0.009*\"system\" + 0.008*\"technology\"'), (4, '0.039*\"health\" + 0.023*\"care\" + 0.020*\"course\" + 0.015*\"management\" + 0.015*\"information\" + 0.014*\"informatics\" + 0.012*\"system\" + 0.011*\"cr\" + 0.009*\"technology\" + 0.009*\"healthcare\"')]\n"
          ]
        },
        {
          "output_type": "stream",
          "name": "stderr",
          "text": [
            "WARNING:gensim.models.ldamodel:too few updates, training might not converge; consider increasing the number of passes or iterations to improve accuracy\n"
          ]
        },
        {
          "output_type": "stream",
          "name": "stdout",
          "text": [
            "[(0, '0.028*\"credit\" + 0.026*\"hour\" + 0.022*\"capstone\" + 0.018*\"project\" + 0.017*\"healthcare\" + 0.017*\"information\" + 0.014*\"system\" + 0.014*\"informatics\" + 0.010*\"student\" + 0.010*\"solution\"'), (1, '0.028*\"healthcare\" + 0.028*\"hour\" + 0.026*\"capstone\" + 0.024*\"credit\" + 0.017*\"informatics\" + 0.016*\"project\" + 0.015*\"information\" + 0.013*\"system\" + 0.012*\"student\" + 0.009*\"process\"'), (2, '0.017*\"hour\" + 0.015*\"healthcare\" + 0.013*\"credit\" + 0.013*\"project\" + 0.013*\"information\" + 0.012*\"capstone\" + 0.011*\"informatics\" + 0.010*\"system\" + 0.010*\"student\" + 0.007*\"using\"'), (3, '0.014*\"hour\" + 0.013*\"credit\" + 0.011*\"healthcare\" + 0.009*\"project\" + 0.009*\"capstone\" + 0.008*\"information\" + 0.007*\"system\" + 0.007*\"informatics\" + 0.007*\"student\" + 0.006*\"process\"'), (4, '0.025*\"credit\" + 0.019*\"hour\" + 0.019*\"capstone\" + 0.018*\"information\" + 0.018*\"healthcare\" + 0.015*\"project\" + 0.014*\"informatics\" + 0.012*\"system\" + 0.012*\"student\" + 0.008*\"quality\"')]\n"
          ]
        },
        {
          "output_type": "stream",
          "name": "stderr",
          "text": [
            "WARNING:gensim.models.ldamodel:too few updates, training might not converge; consider increasing the number of passes or iterations to improve accuracy\n"
          ]
        },
        {
          "output_type": "stream",
          "name": "stdout",
          "text": [
            "[(0, '0.014*\"course\" + 0.010*\"health\" + 0.009*\"data\" + 0.009*\"information\" + 0.008*\"informatics\" + 0.008*\"research\" + 0.008*\"student\" + 0.007*\"clinical\" + 0.005*\"care\" + 0.005*\"use\"'), (1, '0.022*\"health\" + 0.016*\"course\" + 0.015*\"student\" + 0.015*\"clinical\" + 0.013*\"data\" + 0.012*\"information\" + 0.011*\"informatics\" + 0.008*\"project\" + 0.008*\"research\" + 0.007*\"including\"'), (2, '0.023*\"course\" + 0.021*\"health\" + 0.012*\"data\" + 0.011*\"information\" + 0.011*\"student\" + 0.010*\"research\" + 0.010*\"informatics\" + 0.010*\"clinical\" + 0.006*\"biomedical\" + 0.006*\"design\"'), (3, '0.016*\"course\" + 0.016*\"data\" + 0.015*\"health\" + 0.015*\"student\" + 0.012*\"informatics\" + 0.011*\"research\" + 0.010*\"clinical\" + 0.008*\"information\" + 0.007*\"biomedical\" + 0.006*\"care\"'), (4, '0.025*\"health\" + 0.023*\"course\" + 0.019*\"clinical\" + 0.016*\"data\" + 0.015*\"informatics\" + 0.012*\"student\" + 0.010*\"information\" + 0.009*\"biomedical\" + 0.009*\"project\" + 0.007*\"research\"')]\n"
          ]
        },
        {
          "output_type": "stream",
          "name": "stderr",
          "text": [
            "WARNING:gensim.models.ldamodel:too few updates, training might not converge; consider increasing the number of passes or iterations to improve accuracy\n"
          ]
        },
        {
          "output_type": "stream",
          "name": "stdout",
          "text": [
            "[(0, '0.023*\"health\" + 0.015*\"healthcare\" + 0.012*\"information\" + 0.012*\"management\" + 0.010*\"data\" + 0.009*\"student\" + 0.009*\"system\" + 0.008*\"analysis\" + 0.008*\"course\" + 0.007*\"clinical\"'), (1, '0.019*\"health\" + 0.012*\"data\" + 0.012*\"student\" + 0.012*\"information\" + 0.010*\"system\" + 0.010*\"healthcare\" + 0.008*\"course\" + 0.008*\"care\" + 0.008*\"management\" + 0.008*\"analysis\"'), (2, '0.019*\"health\" + 0.011*\"data\" + 0.009*\"management\" + 0.009*\"system\" + 0.008*\"course\" + 0.008*\"information\" + 0.008*\"analysis\" + 0.007*\"student\" + 0.007*\"method\" + 0.007*\"healthcare\"'), (3, '0.024*\"health\" + 0.014*\"data\" + 0.012*\"information\" + 0.012*\"course\" + 0.012*\"student\" + 0.011*\"system\" + 0.010*\"care\" + 0.010*\"healthcare\" + 0.009*\"management\" + 0.007*\"analysis\"'), (4, '0.015*\"health\" + 0.012*\"healthcare\" + 0.012*\"course\" + 0.012*\"student\" + 0.011*\"analysis\" + 0.010*\"data\" + 0.010*\"system\" + 0.009*\"information\" + 0.008*\"care\" + 0.008*\"application\"')]\n"
          ]
        },
        {
          "output_type": "stream",
          "name": "stderr",
          "text": [
            "WARNING:gensim.models.ldamodel:too few updates, training might not converge; consider increasing the number of passes or iterations to improve accuracy\n"
          ]
        },
        {
          "output_type": "stream",
          "name": "stdout",
          "text": [
            "[(0, '0.020*\"data\" + 0.017*\"cr\" + 0.017*\"system\" + 0.015*\"information\" + 0.015*\"health\" + 0.013*\"student\" + 0.012*\"research\" + 0.011*\"healthcare\" + 0.011*\"informatics\" + 0.009*\"method\"'), (1, '0.018*\"data\" + 0.015*\"student\" + 0.015*\"information\" + 0.015*\"health\" + 0.014*\"research\" + 0.014*\"system\" + 0.013*\"cr\" + 0.013*\"informatics\" + 0.010*\"healthcare\" + 0.010*\"project\"'), (2, '0.026*\"health\" + 0.021*\"information\" + 0.019*\"research\" + 0.019*\"healthcare\" + 0.019*\"data\" + 0.018*\"student\" + 0.018*\"system\" + 0.014*\"cr\" + 0.013*\"project\" + 0.012*\"informatics\"'), (3, '0.022*\"health\" + 0.019*\"cr\" + 0.018*\"research\" + 0.017*\"student\" + 0.017*\"information\" + 0.016*\"system\" + 0.016*\"data\" + 0.015*\"project\" + 0.013*\"healthcare\" + 0.012*\"method\"'), (4, '0.018*\"system\" + 0.017*\"cr\" + 0.015*\"data\" + 0.014*\"health\" + 0.013*\"student\" + 0.012*\"research\" + 0.012*\"information\" + 0.012*\"project\" + 0.012*\"healthcare\" + 0.011*\"informatics\"')]\n"
          ]
        },
        {
          "output_type": "stream",
          "name": "stderr",
          "text": [
            "WARNING:gensim.models.ldamodel:too few updates, training might not converge; consider increasing the number of passes or iterations to improve accuracy\n"
          ]
        },
        {
          "output_type": "stream",
          "name": "stdout",
          "text": [
            "[(0, '0.026*\"data\" + 0.020*\"health\" + 0.016*\"care\" + 0.015*\"student\" + 0.011*\"system\" + 0.008*\"information\" + 0.008*\"topic\" + 0.007*\"project\" + 0.006*\"s.h.hin\" + 0.006*\"research\"'), (1, '0.035*\"data\" + 0.033*\"health\" + 0.027*\"student\" + 0.016*\"care\" + 0.012*\"information\" + 0.011*\"system\" + 0.009*\"project\" + 0.009*\"informatics\" + 0.008*\"s.h.hin\" + 0.008*\"course\"'), (2, '0.027*\"health\" + 0.023*\"data\" + 0.021*\"student\" + 0.017*\"care\" + 0.010*\"system\" + 0.010*\"information\" + 0.008*\"topic\" + 0.008*\"course\" + 0.007*\"creditsthis\" + 0.007*\"s.h.hin\"'), (3, '0.038*\"health\" + 0.035*\"data\" + 0.028*\"student\" + 0.016*\"system\" + 0.015*\"care\" + 0.015*\"information\" + 0.011*\"course\" + 0.010*\"gain\" + 0.009*\"topic\" + 0.009*\"informatics\"'), (4, '0.021*\"health\" + 0.020*\"student\" + 0.018*\"data\" + 0.010*\"care\" + 0.009*\"information\" + 0.009*\"system\" + 0.008*\"course\" + 0.006*\"topic\" + 0.006*\"s.h.hin\" + 0.006*\"project\"')]\n"
          ]
        },
        {
          "output_type": "stream",
          "name": "stderr",
          "text": [
            "WARNING:gensim.models.ldamodel:too few updates, training might not converge; consider increasing the number of passes or iterations to improve accuracy\n"
          ]
        },
        {
          "output_type": "stream",
          "name": "stdout",
          "text": [
            "[(0, '0.073*\"health\" + 0.033*\"information\" + 0.022*\"system\" + 0.020*\"track\" + 0.020*\"informatics\" + 0.019*\"care\" + 0.018*\"3hi\" + 0.017*\"management\" + 0.012*\"graduate\" + 0.011*\"hi\"'), (1, '0.082*\"health\" + 0.036*\"information\" + 0.029*\"informatics\" + 0.024*\"management\" + 0.020*\"track\" + 0.019*\"care\" + 0.018*\"3hi\" + 0.016*\"system\" + 0.012*\"graduate\" + 0.011*\"program\"'), (2, '0.052*\"health\" + 0.035*\"information\" + 0.026*\"care\" + 0.021*\"3hi\" + 0.020*\"informatics\" + 0.020*\"system\" + 0.019*\"track\" + 0.018*\"management\" + 0.011*\"electronic\" + 0.011*\"hi\"'), (3, '0.014*\"health\" + 0.010*\"informatics\" + 0.009*\"information\" + 0.009*\"track\" + 0.009*\"system\" + 0.009*\"management\" + 0.009*\"care\" + 0.008*\"3hi\" + 0.007*\"graduate\" + 0.007*\"student\"'), (4, '0.043*\"health\" + 0.023*\"information\" + 0.022*\"care\" + 0.021*\"3hi\" + 0.020*\"informatics\" + 0.018*\"system\" + 0.014*\"track\" + 0.014*\"management\" + 0.011*\"graduate\" + 0.010*\"electronic\"')]\n"
          ]
        },
        {
          "output_type": "stream",
          "name": "stderr",
          "text": [
            "WARNING:gensim.models.ldamodel:too few updates, training might not converge; consider increasing the number of passes or iterations to improve accuracy\n"
          ]
        },
        {
          "output_type": "stream",
          "name": "stdout",
          "text": [
            "[(0, '0.027*\"health\" + 0.023*\"informatics\" + 0.020*\"project\" + 0.020*\"data\" + 0.019*\"capstone\" + 0.016*\"method\" + 0.015*\"development\" + 0.013*\"healthcare\" + 0.013*\"research\" + 0.012*\"system\"'), (1, '0.025*\"health\" + 0.019*\"informatics\" + 0.019*\"project\" + 0.016*\"method\" + 0.013*\"data\" + 0.012*\"capstone\" + 0.012*\"problem\" + 0.011*\"healthcare\" + 0.010*\"research\" + 0.010*\"development\"'), (2, '0.023*\"project\" + 0.020*\"informatics\" + 0.019*\"data\" + 0.018*\"health\" + 0.016*\"research\" + 0.016*\"capstone\" + 0.014*\"development\" + 0.011*\"problem\" + 0.011*\"method\" + 0.011*\"healthcare\"'), (3, '0.016*\"informatics\" + 0.016*\"health\" + 0.014*\"project\" + 0.014*\"research\" + 0.013*\"method\" + 0.011*\"healthcare\" + 0.010*\"development\" + 0.010*\"capstone\" + 0.010*\"data\" + 0.009*\"problem\"'), (4, '0.023*\"health\" + 0.021*\"capstone\" + 0.018*\"project\" + 0.018*\"informatics\" + 0.017*\"data\" + 0.016*\"research\" + 0.016*\"healthcare\" + 0.015*\"method\" + 0.015*\"development\" + 0.015*\"problem\"')]\n"
          ]
        },
        {
          "output_type": "stream",
          "name": "stderr",
          "text": [
            "WARNING:gensim.models.ldamodel:too few updates, training might not converge; consider increasing the number of passes or iterations to improve accuracy\n"
          ]
        },
        {
          "output_type": "stream",
          "name": "stdout",
          "text": [
            "[(0, '0.029*\"health\" + 0.023*\"data\" + 0.015*\"healthcare\" + 0.013*\"project\" + 0.012*\"analytics\" + 0.012*\"system\" + 0.012*\"method\" + 0.011*\"management\" + 0.011*\"informatics\" + 0.010*\"database\"'), (1, '0.034*\"data\" + 0.026*\"health\" + 0.017*\"project\" + 0.013*\"method\" + 0.013*\"healthcare\" + 0.013*\"database\" + 0.012*\"informatics\" + 0.011*\"development\" + 0.011*\"system\" + 0.010*\"analytics\"'), (2, '0.031*\"data\" + 0.026*\"health\" + 0.018*\"method\" + 0.016*\"informatics\" + 0.015*\"system\" + 0.014*\"analytics\" + 0.014*\"project\" + 0.012*\"tool\" + 0.012*\"management\" + 0.012*\"healthcare\"'), (3, '0.027*\"health\" + 0.024*\"data\" + 0.016*\"informatics\" + 0.015*\"analytics\" + 0.014*\"capstone\" + 0.013*\"project\" + 0.013*\"healthcare\" + 0.012*\"method\" + 0.012*\"tool\" + 0.011*\"development\"'), (4, '0.021*\"data\" + 0.016*\"health\" + 0.014*\"informatics\" + 0.013*\"method\" + 0.011*\"healthcare\" + 0.010*\"project\" + 0.010*\"analytics\" + 0.010*\"system\" + 0.009*\"capstone\" + 0.008*\"tool\"')]\n"
          ]
        },
        {
          "output_type": "stream",
          "name": "stderr",
          "text": [
            "WARNING:gensim.models.ldamodel:too few updates, training might not converge; consider increasing the number of passes or iterations to improve accuracy\n"
          ]
        },
        {
          "output_type": "stream",
          "name": "stdout",
          "text": [
            "[(0, '0.043*\"data\" + 0.021*\"health\" + 0.014*\"analysis\" + 0.012*\"decision\" + 0.011*\"using\" + 0.009*\"course\" + 0.009*\"technique\" + 0.007*\"mining\" + 0.007*\"method\" + 0.007*\"statistical\"'), (1, '0.029*\"data\" + 0.023*\"health\" + 0.014*\"analysis\" + 0.012*\"decision\" + 0.011*\"using\" + 0.009*\"student\" + 0.009*\"statistical\" + 0.008*\"course\" + 0.006*\"including\" + 0.006*\"application\"'), (2, '0.033*\"data\" + 0.029*\"health\" + 0.010*\"analysis\" + 0.009*\"decision\" + 0.009*\"statistical\" + 0.007*\"using\" + 0.007*\"technique\" + 0.006*\"application\" + 0.006*\"student\" + 0.006*\"including\"'), (3, '0.044*\"data\" + 0.031*\"health\" + 0.019*\"analysis\" + 0.015*\"using\" + 0.011*\"decision\" + 0.010*\"student\" + 0.008*\"application\" + 0.008*\"understand\" + 0.008*\"method\" + 0.008*\"course\"'), (4, '0.034*\"data\" + 0.029*\"health\" + 0.013*\"analysis\" + 0.010*\"using\" + 0.009*\"statistical\" + 0.008*\"decision\" + 0.008*\"including\" + 0.008*\"course\" + 0.007*\"application\" + 0.007*\"mining\"')]\n"
          ]
        },
        {
          "output_type": "stream",
          "name": "stderr",
          "text": [
            "WARNING:gensim.models.ldamodel:too few updates, training might not converge; consider increasing the number of passes or iterations to improve accuracy\n"
          ]
        },
        {
          "output_type": "stream",
          "name": "stdout",
          "text": [
            "[(0, '0.036*\"health\" + 0.018*\"data\" + 0.011*\"informatics\" + 0.011*\"describe\" + 0.009*\"population\" + 0.009*\"course\" + 0.008*\"management\" + 0.008*\"consumer\" + 0.007*\"care\" + 0.007*\"student\"'), (1, '0.034*\"health\" + 0.015*\"data\" + 0.011*\"population\" + 0.011*\"care\" + 0.009*\"informatics\" + 0.009*\"describe\" + 0.007*\"method\" + 0.007*\"student\" + 0.007*\"management\" + 0.007*\"consumer\"'), (2, '0.044*\"health\" + 0.012*\"data\" + 0.010*\"population\" + 0.010*\"course\" + 0.009*\"describe\" + 0.009*\"informatics\" + 0.008*\"knowledge\" + 0.008*\"care\" + 0.007*\"information\" + 0.007*\"decision\"'), (3, '0.049*\"health\" + 0.016*\"data\" + 0.015*\"informatics\" + 0.012*\"describe\" + 0.012*\"population\" + 0.011*\"student\" + 0.011*\"information\" + 0.011*\"care\" + 0.009*\"course\" + 0.008*\"consumer\"'), (4, '0.033*\"health\" + 0.015*\"data\" + 0.009*\"population\" + 0.009*\"informatics\" + 0.008*\"course\" + 0.007*\"knowledge\" + 0.007*\"care\" + 0.006*\"describe\" + 0.006*\"disease\" + 0.006*\"information\"')]\n"
          ]
        },
        {
          "output_type": "stream",
          "name": "stderr",
          "text": [
            "WARNING:gensim.models.ldamodel:too few updates, training might not converge; consider increasing the number of passes or iterations to improve accuracy\n"
          ]
        },
        {
          "output_type": "stream",
          "name": "stdout",
          "text": [
            "[(0, '0.029*\"health\" + 0.011*\"policy\" + 0.010*\"healthcare\" + 0.008*\"management\" + 0.008*\"system\" + 0.007*\"care\" + 0.007*\"analysis\" + 0.007*\"service\" + 0.007*\"organization\" + 0.007*\"may\"'), (1, '0.042*\"health\" + 0.013*\"healthcare\" + 0.012*\"management\" + 0.012*\"care\" + 0.011*\"policy\" + 0.009*\"quality\" + 0.009*\"service\" + 0.008*\"information\" + 0.008*\"analysis\" + 0.008*\"process\"'), (2, '0.042*\"health\" + 0.013*\"management\" + 0.012*\"policy\" + 0.011*\"care\" + 0.011*\"healthcare\" + 0.010*\"process\" + 0.009*\"service\" + 0.009*\"offered\" + 0.009*\"analysis\" + 0.008*\"system\"'), (3, '0.018*\"health\" + 0.010*\"healthcare\" + 0.008*\"policy\" + 0.007*\"care\" + 0.007*\"design\" + 0.006*\"management\" + 0.006*\"information\" + 0.006*\"organization\" + 0.006*\"system\" + 0.006*\"may\"'), (4, '0.047*\"health\" + 0.017*\"healthcare\" + 0.014*\"management\" + 0.014*\"policy\" + 0.012*\"care\" + 0.011*\"service\" + 0.010*\"information\" + 0.010*\"quality\" + 0.009*\"analysis\" + 0.009*\"project\"')]\n"
          ]
        },
        {
          "output_type": "stream",
          "name": "stderr",
          "text": [
            "WARNING:gensim.models.ldamodel:too few updates, training might not converge; consider increasing the number of passes or iterations to improve accuracy\n"
          ]
        },
        {
          "output_type": "stream",
          "name": "stdout",
          "text": [
            "[(0, '0.053*\"health\" + 0.028*\"informatics\" + 0.025*\"data\" + 0.019*\"system\" + 0.018*\"information\" + 0.015*\"database\" + 0.012*\"method\" + 0.012*\"care\" + 0.010*\"analysis\" + 0.009*\"clinical\"'), (1, '0.026*\"health\" + 0.021*\"information\" + 0.014*\"informatics\" + 0.014*\"system\" + 0.013*\"data\" + 0.009*\"care\" + 0.008*\"database\" + 0.007*\"science\" + 0.007*\"decision\" + 0.007*\"method\"'), (2, '0.055*\"health\" + 0.024*\"data\" + 0.021*\"informatics\" + 0.020*\"information\" + 0.016*\"system\" + 0.013*\"database\" + 0.013*\"care\" + 0.010*\"method\" + 0.008*\"science\" + 0.008*\"evaluation\"'), (3, '0.030*\"health\" + 0.023*\"informatics\" + 0.019*\"system\" + 0.018*\"information\" + 0.016*\"data\" + 0.013*\"database\" + 0.011*\"care\" + 0.008*\"method\" + 0.008*\"research\" + 0.008*\"science\"'), (4, '0.044*\"health\" + 0.022*\"informatics\" + 0.017*\"information\" + 0.016*\"system\" + 0.015*\"data\" + 0.012*\"database\" + 0.010*\"care\" + 0.010*\"clinical\" + 0.010*\"method\" + 0.009*\"science\"')]\n"
          ]
        },
        {
          "output_type": "stream",
          "name": "stderr",
          "text": [
            "WARNING:gensim.models.ldamodel:too few updates, training might not converge; consider increasing the number of passes or iterations to improve accuracy\n"
          ]
        },
        {
          "output_type": "stream",
          "name": "stdout",
          "text": [
            "[(0, '0.030*\"health\" + 0.019*\"course\" + 0.011*\"project\" + 0.011*\"3cr\" + 0.010*\"concept\" + 0.009*\"practice\" + 0.008*\"development\" + 0.008*\"student\" + 0.008*\"system\" + 0.007*\"care\"'), (1, '0.026*\"health\" + 0.016*\"course\" + 0.015*\"care\" + 0.011*\"management\" + 0.011*\"concept\" + 0.010*\"3cr\" + 0.010*\"practice\" + 0.009*\"student\" + 0.009*\"information\" + 0.008*\"project\"'), (2, '0.032*\"health\" + 0.017*\"care\" + 0.014*\"management\" + 0.014*\"course\" + 0.013*\"student\" + 0.011*\"3cr\" + 0.011*\"development\" + 0.010*\"concept\" + 0.009*\"practice\" + 0.008*\"project\"'), (3, '0.026*\"health\" + 0.011*\"course\" + 0.010*\"3cr\" + 0.010*\"care\" + 0.009*\"concept\" + 0.009*\"student\" + 0.009*\"development\" + 0.008*\"project\" + 0.008*\"management\" + 0.007*\"practice\"'), (4, '0.052*\"health\" + 0.018*\"course\" + 0.016*\"care\" + 0.014*\"management\" + 0.014*\"3cr\" + 0.012*\"student\" + 0.011*\"development\" + 0.010*\"practice\" + 0.010*\"concept\" + 0.009*\"communication\"')]\n"
          ]
        },
        {
          "output_type": "stream",
          "name": "stderr",
          "text": [
            "WARNING:gensim.models.ldamodel:too few updates, training might not converge; consider increasing the number of passes or iterations to improve accuracy\n"
          ]
        },
        {
          "output_type": "stream",
          "name": "stdout",
          "text": [
            "[(0, '0.035*\"credit\" + 0.034*\"hour\" + 0.031*\"health\" + 0.028*\"semester\" + 0.027*\"0-3-3\" + 0.026*\"information\" + 0.018*\"study\" + 0.018*\"informatics\" + 0.015*\"healthcare\" + 0.013*\"system\"'), (1, '0.023*\"semester\" + 0.020*\"hour\" + 0.018*\"credit\" + 0.016*\"information\" + 0.014*\"study\" + 0.014*\"health\" + 0.013*\"0-3-3\" + 0.010*\"informatics\" + 0.009*\"healthcare\" + 0.009*\"system\"'), (2, '0.036*\"semester\" + 0.034*\"0-3-3\" + 0.025*\"information\" + 0.024*\"hour\" + 0.024*\"study\" + 0.023*\"credit\" + 0.018*\"health\" + 0.015*\"healthcare\" + 0.014*\"application\" + 0.013*\"informatics\"'), (3, '0.024*\"0-3-3\" + 0.020*\"hour\" + 0.020*\"credit\" + 0.019*\"information\" + 0.017*\"semester\" + 0.015*\"study\" + 0.013*\"health\" + 0.010*\"informatics\" + 0.010*\"healthcare\" + 0.009*\"system\"'), (4, '0.027*\"credit\" + 0.026*\"hour\" + 0.025*\"0-3-3\" + 0.020*\"semester\" + 0.019*\"information\" + 0.019*\"study\" + 0.017*\"health\" + 0.013*\"healthcare\" + 0.011*\"application\" + 0.011*\"system\"')]\n"
          ]
        },
        {
          "output_type": "stream",
          "name": "stderr",
          "text": [
            "WARNING:gensim.models.ldamodel:too few updates, training might not converge; consider increasing the number of passes or iterations to improve accuracy\n"
          ]
        },
        {
          "output_type": "stream",
          "name": "stdout",
          "text": [
            "[(0, '0.035*\"health\" + 0.018*\"credit\" + 0.015*\"hour\" + 0.014*\"care\" + 0.014*\"informatics\" + 0.012*\"student\" + 0.011*\"technology\" + 0.011*\"data\" + 0.011*\"system\" + 0.010*\"management\"'), (1, '0.031*\"health\" + 0.018*\"system\" + 0.015*\"credit\" + 0.014*\"hour\" + 0.013*\"care\" + 0.013*\"student\" + 0.012*\"data\" + 0.010*\"technology\" + 0.010*\"informatics\" + 0.010*\"information\"'), (2, '0.019*\"health\" + 0.014*\"credit\" + 0.013*\"hour\" + 0.013*\"care\" + 0.011*\"management\" + 0.010*\"system\" + 0.009*\"technology\" + 0.009*\"student\" + 0.008*\"program\" + 0.008*\"informatics\"'), (3, '0.041*\"health\" + 0.023*\"system\" + 0.023*\"hour\" + 0.019*\"credit\" + 0.018*\"care\" + 0.015*\"data\" + 0.014*\"informatics\" + 0.014*\"student\" + 0.012*\"information\" + 0.011*\"technology\"'), (4, '0.031*\"health\" + 0.019*\"credit\" + 0.019*\"system\" + 0.017*\"hour\" + 0.012*\"care\" + 0.011*\"student\" + 0.011*\"technology\" + 0.011*\"informatics\" + 0.010*\"management\" + 0.010*\"data\"')]\n"
          ]
        },
        {
          "output_type": "stream",
          "name": "stderr",
          "text": [
            "WARNING:gensim.models.ldamodel:too few updates, training might not converge; consider increasing the number of passes or iterations to improve accuracy\n"
          ]
        },
        {
          "output_type": "stream",
          "name": "stdout",
          "text": [
            "[(0, '0.031*\"bhis\" + 0.026*\"data\" + 0.018*\"course\" + 0.014*\"healthcare\" + 0.014*\"hour\" + 0.014*\"required\" + 0.014*\"health\" + 0.011*\"science\" + 0.011*\"student\" + 0.010*\"computer\"'), (1, '0.019*\"bhis\" + 0.018*\"data\" + 0.011*\"science\" + 0.011*\"course\" + 0.011*\"healthcare\" + 0.010*\"health\" + 0.008*\"hour\" + 0.008*\"required\" + 0.008*\"grade\" + 0.008*\"online\"'), (2, '0.048*\"bhis\" + 0.035*\"data\" + 0.033*\"course\" + 0.020*\"science\" + 0.020*\"healthcare\" + 0.019*\"health\" + 0.018*\"hour\" + 0.016*\"prerequisite\" + 0.014*\"consent\" + 0.013*\"information\"'), (3, '0.027*\"bhis\" + 0.024*\"data\" + 0.019*\"course\" + 0.015*\"healthcare\" + 0.014*\"science\" + 0.012*\"health\" + 0.011*\"consent\" + 0.010*\"hour\" + 0.010*\"required\" + 0.010*\"grade\"'), (4, '0.034*\"bhis\" + 0.032*\"data\" + 0.023*\"health\" + 0.023*\"course\" + 0.020*\"healthcare\" + 0.016*\"science\" + 0.016*\"hour\" + 0.014*\"consent\" + 0.013*\"computer\" + 0.013*\"prerequisite\"')]\n"
          ]
        },
        {
          "output_type": "stream",
          "name": "stderr",
          "text": [
            "WARNING:gensim.models.ldamodel:too few updates, training might not converge; consider increasing the number of passes or iterations to improve accuracy\n"
          ]
        },
        {
          "output_type": "stream",
          "name": "stdout",
          "text": [
            "[(0, '0.025*\"bhis\" + 0.024*\"healthcare\" + 0.022*\"health\" + 0.020*\"hour\" + 0.016*\"informatics\" + 0.016*\"prerequisite\" + 0.014*\"management\" + 0.014*\"consent\" + 0.014*\"leadership\" + 0.012*\"information\"'), (1, '0.017*\"health\" + 0.015*\"bhis\" + 0.013*\"healthcare\" + 0.013*\"hour\" + 0.012*\"consent\" + 0.011*\"prerequisite\" + 0.011*\"management\" + 0.010*\"student\" + 0.010*\"informatics\" + 0.010*\"information\"'), (2, '0.036*\"health\" + 0.032*\"healthcare\" + 0.025*\"bhis\" + 0.019*\"informatics\" + 0.019*\"hour\" + 0.018*\"consent\" + 0.017*\"management\" + 0.016*\"prerequisite\" + 0.016*\"project\" + 0.015*\"leadership\"'), (3, '0.027*\"hour\" + 0.025*\"health\" + 0.024*\"healthcare\" + 0.019*\"bhis\" + 0.017*\"prerequisite\" + 0.015*\"project\" + 0.015*\"informatics\" + 0.015*\"consent\" + 0.013*\"leadership\" + 0.012*\"information\"'), (4, '0.044*\"health\" + 0.038*\"bhis\" + 0.025*\"hour\" + 0.023*\"healthcare\" + 0.021*\"management\" + 0.018*\"consent\" + 0.018*\"prerequisite\" + 0.017*\"informatics\" + 0.017*\"information\" + 0.015*\"leadership\"')]\n"
          ]
        },
        {
          "output_type": "stream",
          "name": "stderr",
          "text": [
            "WARNING:gensim.models.ldamodel:too few updates, training might not converge; consider increasing the number of passes or iterations to improve accuracy\n"
          ]
        },
        {
          "output_type": "stream",
          "name": "stdout",
          "text": [
            "[(0, '0.026*\"health\" + 0.021*\"bhis\" + 0.018*\"hour\" + 0.017*\"informatics\" + 0.015*\"information\" + 0.012*\"course\" + 0.012*\"mobile\" + 0.011*\"required\" + 0.011*\"technology\" + 0.011*\"student\"'), (1, '0.044*\"health\" + 0.036*\"bhis\" + 0.024*\"hour\" + 0.019*\"informatics\" + 0.015*\"mobile\" + 0.014*\"course\" + 0.014*\"information\" + 0.014*\"method\" + 0.013*\"required\" + 0.013*\"prerequisite\"'), (2, '0.027*\"health\" + 0.023*\"informatics\" + 0.019*\"bhis\" + 0.019*\"hour\" + 0.015*\"course\" + 0.014*\"information\" + 0.013*\"technology\" + 0.012*\"method\" + 0.012*\"prerequisite\" + 0.012*\"consumer\"'), (3, '0.025*\"hour\" + 0.022*\"health\" + 0.022*\"informatics\" + 0.020*\"information\" + 0.018*\"bhis\" + 0.014*\"mobile\" + 0.013*\"course\" + 0.012*\"prerequisite\" + 0.012*\"student\" + 0.012*\"technology\"'), (4, '0.041*\"health\" + 0.027*\"bhis\" + 0.025*\"hour\" + 0.021*\"information\" + 0.020*\"informatics\" + 0.019*\"mobile\" + 0.016*\"course\" + 0.013*\"use\" + 0.013*\"student\" + 0.012*\"computer\"')]\n"
          ]
        },
        {
          "output_type": "stream",
          "name": "stderr",
          "text": [
            "WARNING:gensim.models.ldamodel:too few updates, training might not converge; consider increasing the number of passes or iterations to improve accuracy\n"
          ]
        },
        {
          "output_type": "stream",
          "name": "stdout",
          "text": [
            "[(0, '0.024*\"bhis\" + 0.021*\"health\" + 0.013*\"healthcare\" + 0.013*\"hour\" + 0.013*\"course\" + 0.010*\"information\" + 0.010*\"prerequisite\" + 0.010*\"informatics\" + 0.010*\"data\" + 0.009*\"consent\"'), (1, '0.034*\"bhis\" + 0.025*\"health\" + 0.020*\"healthcare\" + 0.019*\"course\" + 0.016*\"hour\" + 0.015*\"information\" + 0.015*\"data\" + 0.015*\"informatics\" + 0.015*\"510\" + 0.013*\"prerequisite\"'), (2, '0.034*\"health\" + 0.029*\"bhis\" + 0.025*\"information\" + 0.022*\"prerequisite\" + 0.021*\"healthcare\" + 0.019*\"consent\" + 0.017*\"hour\" + 0.017*\"instructor.bhis\" + 0.015*\"data\" + 0.013*\"informatics\"'), (3, '0.028*\"bhis\" + 0.022*\"consent\" + 0.019*\"health\" + 0.019*\"healthcare\" + 0.018*\"hour\" + 0.017*\"course\" + 0.015*\"prerequisite\" + 0.015*\"510\" + 0.015*\"information\" + 0.015*\"data\"'), (4, '0.046*\"bhis\" + 0.035*\"health\" + 0.029*\"hour\" + 0.022*\"information\" + 0.021*\"healthcare\" + 0.021*\"prerequisite\" + 0.020*\"consent\" + 0.018*\"510\" + 0.018*\"course\" + 0.018*\"data\"')]\n"
          ]
        },
        {
          "output_type": "stream",
          "name": "stderr",
          "text": [
            "WARNING:gensim.models.ldamodel:too few updates, training might not converge; consider increasing the number of passes or iterations to improve accuracy\n"
          ]
        },
        {
          "output_type": "stream",
          "name": "stdout",
          "text": [
            "[(0, '0.032*\"health\" + 0.014*\"informatics\" + 0.013*\"data\" + 0.013*\"system\" + 0.011*\"information\" + 0.008*\"research\" + 0.008*\"course\" + 0.008*\"project\" + 0.007*\"design\" + 0.007*\"technology\"'), (1, '0.028*\"health\" + 0.015*\"data\" + 0.012*\"system\" + 0.009*\"informatics\" + 0.009*\"information\" + 0.009*\"course\" + 0.008*\"factor\" + 0.008*\"project\" + 0.007*\"research\" + 0.007*\"patient\"'), (2, '0.029*\"health\" + 0.018*\"system\" + 0.015*\"data\" + 0.013*\"information\" + 0.010*\"course\" + 0.009*\"informatics\" + 0.009*\"research\" + 0.008*\"human\" + 0.007*\"design\" + 0.007*\"healthcare\"'), (3, '0.021*\"health\" + 0.012*\"system\" + 0.011*\"informatics\" + 0.010*\"information\" + 0.010*\"data\" + 0.007*\"project\" + 0.007*\"course\" + 0.007*\"research\" + 0.006*\"clinical\" + 0.006*\"healthcare\"'), (4, '0.024*\"health\" + 0.018*\"data\" + 0.016*\"information\" + 0.014*\"system\" + 0.012*\"informatics\" + 0.011*\"project\" + 0.009*\"research\" + 0.009*\"human\" + 0.008*\"clinical\" + 0.008*\"design\"')]\n"
          ]
        },
        {
          "output_type": "stream",
          "name": "stderr",
          "text": [
            "WARNING:gensim.models.ldamodel:too few updates, training might not converge; consider increasing the number of passes or iterations to improve accuracy\n"
          ]
        },
        {
          "output_type": "stream",
          "name": "stdout",
          "text": [
            "[(0, '0.038*\"health\" + 0.017*\"information\" + 0.016*\"system\" + 0.012*\"student\" + 0.012*\"standard\" + 0.011*\"course\" + 0.010*\"data\" + 0.010*\"healthcare\" + 0.009*\"understand\" + 0.009*\"informatics\"'), (1, '0.046*\"health\" + 0.015*\"system\" + 0.014*\"information\" + 0.012*\"informatics\" + 0.011*\"healthcare\" + 0.011*\"course\" + 0.010*\"data\" + 0.010*\"student\" + 0.009*\"offered\" + 0.008*\"standard\"'), (2, '0.039*\"health\" + 0.019*\"information\" + 0.017*\"system\" + 0.016*\"data\" + 0.013*\"course\" + 0.012*\"informatics\" + 0.012*\"student\" + 0.011*\"healthcare\" + 0.010*\"management\" + 0.010*\"understand\"'), (3, '0.043*\"health\" + 0.015*\"information\" + 0.013*\"data\" + 0.012*\"healthcare\" + 0.012*\"system\" + 0.012*\"course\" + 0.010*\"database\" + 0.010*\"tool\" + 0.010*\"informatics\" + 0.010*\"understand\"'), (4, '0.018*\"health\" + 0.012*\"system\" + 0.009*\"data\" + 0.009*\"information\" + 0.008*\"standard\" + 0.008*\"informatics\" + 0.008*\"course\" + 0.007*\"student\" + 0.006*\"understand\" + 0.006*\"management\"')]\n"
          ]
        },
        {
          "output_type": "stream",
          "name": "stderr",
          "text": [
            "WARNING:gensim.models.ldamodel:too few updates, training might not converge; consider increasing the number of passes or iterations to improve accuracy\n"
          ]
        },
        {
          "output_type": "stream",
          "name": "stdout",
          "text": [
            "[(0, '0.010*\"system\" + 0.008*\"data\" + 0.008*\"course\" + 0.008*\"3.0\" + 0.007*\"health\" + 0.006*\"database\" + 0.006*\"science\" + 0.006*\"student\" + 0.006*\"information\" + 0.005*\"analysis\"'), (1, '0.016*\"data\" + 0.013*\"system\" + 0.013*\"course\" + 0.013*\"3.0\" + 0.012*\"student\" + 0.012*\"analysis\" + 0.011*\"health\" + 0.011*\"information\" + 0.010*\"method\" + 0.010*\"database\"'), (2, '0.016*\"3.0\" + 0.014*\"course\" + 0.013*\"system\" + 0.011*\"data\" + 0.011*\"health\" + 0.010*\"method\" + 0.009*\"student\" + 0.009*\"analysis\" + 0.009*\"information\" + 0.008*\"design\"'), (3, '0.021*\"3.0\" + 0.018*\"system\" + 0.017*\"health\" + 0.016*\"course\" + 0.015*\"student\" + 0.014*\"data\" + 0.011*\"analysis\" + 0.011*\"information\" + 0.010*\"healthcare\" + 0.010*\"method\"'), (4, '0.013*\"3.0\" + 0.012*\"course\" + 0.012*\"system\" + 0.011*\"data\" + 0.011*\"method\" + 0.011*\"health\" + 0.010*\"analysis\" + 0.009*\"student\" + 0.009*\"experience\" + 0.009*\"healthcare\"')]\n"
          ]
        },
        {
          "output_type": "stream",
          "name": "stderr",
          "text": [
            "WARNING:gensim.models.ldamodel:too few updates, training might not converge; consider increasing the number of passes or iterations to improve accuracy\n"
          ]
        },
        {
          "output_type": "stream",
          "name": "stdout",
          "text": [
            "[(0, '0.101*\"health\" + 0.054*\"cohe\" + 0.048*\"informatics\" + 0.039*\"management\" + 0.036*\"information\" + 0.021*\"care\" + 0.020*\"ms-hiim\" + 0.019*\"curriculum\" + 0.019*\"student\" + 0.017*\"data\"'), (1, '0.012*\"health\" + 0.012*\"cohe\" + 0.012*\"care\" + 0.012*\"informatics\" + 0.012*\"information\" + 0.012*\"management\" + 0.011*\"data\" + 0.011*\"ms-hiim\" + 0.011*\"student\" + 0.011*\"internship\"'), (2, '0.084*\"health\" + 0.076*\"cohe\" + 0.046*\"informatics\" + 0.032*\"information\" + 0.032*\"management\" + 0.023*\"care\" + 0.020*\"data\" + 0.019*\"ms-hiim\" + 0.016*\"curriculum\" + 0.016*\"student\"'), (3, '0.068*\"health\" + 0.056*\"cohe\" + 0.028*\"information\" + 0.027*\"informatics\" + 0.026*\"care\" + 0.022*\"management\" + 0.019*\"student\" + 0.019*\"curriculum\" + 0.016*\"data\" + 0.014*\"degree\"'), (4, '0.013*\"health\" + 0.013*\"cohe\" + 0.012*\"informatics\" + 0.012*\"management\" + 0.012*\"information\" + 0.012*\"care\" + 0.012*\"data\" + 0.012*\"curriculum\" + 0.012*\"knowledge\" + 0.012*\"student\"')]\n"
          ]
        },
        {
          "output_type": "stream",
          "name": "stderr",
          "text": [
            "WARNING:gensim.models.ldamodel:too few updates, training might not converge; consider increasing the number of passes or iterations to improve accuracy\n"
          ]
        },
        {
          "output_type": "stream",
          "name": "stdout",
          "text": [
            "[(0, '0.021*\"course\" + 0.019*\"data\" + 0.016*\"information\" + 0.014*\"met\" + 0.013*\"c\" + 0.011*\"health\" + 0.011*\"analytics\" + 0.009*\"system\" + 0.009*\"student\" + 0.008*\"cr\"'), (1, '0.026*\"data\" + 0.023*\"course\" + 0.019*\"c\" + 0.018*\"health\" + 0.015*\"met\" + 0.015*\"information\" + 0.011*\"system\" + 0.009*\"concept\" + 0.008*\"analytics\" + 0.008*\"management\"'), (2, '0.014*\"data\" + 0.011*\"course\" + 0.011*\"health\" + 0.011*\"system\" + 0.010*\"information\" + 0.009*\"c\" + 0.009*\"met\" + 0.008*\"cr\" + 0.007*\"analytics\" + 0.007*\"medical\"'), (3, '0.021*\"data\" + 0.020*\"course\" + 0.016*\"information\" + 0.015*\"c\" + 0.012*\"health\" + 0.012*\"met\" + 0.011*\"system\" + 0.010*\"cr\" + 0.009*\"analytics\" + 0.008*\"concept\"'), (4, '0.020*\"course\" + 0.018*\"data\" + 0.018*\"met\" + 0.014*\"information\" + 0.013*\"c\" + 0.011*\"student\" + 0.011*\"system\" + 0.010*\"analytics\" + 0.010*\"health\" + 0.009*\"cr\"')]\n"
          ]
        },
        {
          "output_type": "stream",
          "name": "stderr",
          "text": [
            "WARNING:gensim.models.ldamodel:too few updates, training might not converge; consider increasing the number of passes or iterations to improve accuracy\n"
          ]
        },
        {
          "output_type": "stream",
          "name": "stdout",
          "text": [
            "[(0, '0.016*\"course\" + 0.015*\"management\" + 0.015*\"system\" + 0.014*\"met\" + 0.013*\"health\" + 0.013*\"information\" + 0.011*\"student\" + 0.011*\"c\" + 0.009*\"design\" + 0.008*\"cr\"'), (1, '0.020*\"course\" + 0.011*\"information\" + 0.011*\"management\" + 0.010*\"met\" + 0.009*\"student\" + 0.009*\"c\" + 0.009*\"health\" + 0.009*\"system\" + 0.007*\"concept\" + 0.006*\"development\"'), (2, '0.026*\"course\" + 0.017*\"information\" + 0.017*\"health\" + 0.017*\"met\" + 0.014*\"system\" + 0.012*\"management\" + 0.012*\"student\" + 0.011*\"c\" + 0.009*\"design\" + 0.009*\"cr\"'), (3, '0.025*\"course\" + 0.023*\"information\" + 0.018*\"health\" + 0.018*\"management\" + 0.017*\"c\" + 0.014*\"system\" + 0.013*\"met\" + 0.010*\"student\" + 0.010*\"cr\" + 0.009*\"medical\"'), (4, '0.012*\"course\" + 0.010*\"system\" + 0.008*\"c\" + 0.008*\"management\" + 0.007*\"student\" + 0.007*\"health\" + 0.006*\"information\" + 0.006*\"met\" + 0.005*\"cr\" + 0.005*\"design\"')]\n"
          ]
        },
        {
          "output_type": "stream",
          "name": "stderr",
          "text": [
            "WARNING:gensim.models.ldamodel:too few updates, training might not converge; consider increasing the number of passes or iterations to improve accuracy\n"
          ]
        },
        {
          "output_type": "stream",
          "name": "stdout",
          "text": [
            "[(0, '0.029*\"health\" + 0.015*\"course\" + 0.015*\"informatics\" + 0.013*\"student\" + 0.012*\"healthcare\" + 0.012*\"data\" + 0.011*\"information\" + 0.009*\"project\" + 0.008*\"care\" + 0.007*\"system\"'), (1, '0.045*\"health\" + 0.025*\"course\" + 0.021*\"information\" + 0.015*\"healthcare\" + 0.012*\"informatics\" + 0.011*\"student\" + 0.010*\"care\" + 0.009*\"project\" + 0.008*\"data\" + 0.007*\"quality\"'), (2, '0.029*\"health\" + 0.018*\"information\" + 0.015*\"healthcare\" + 0.012*\"course\" + 0.011*\"student\" + 0.010*\"informatics\" + 0.010*\"system\" + 0.010*\"care\" + 0.009*\"data\" + 0.009*\"quality\"'), (3, '0.041*\"health\" + 0.018*\"student\" + 0.017*\"information\" + 0.016*\"healthcare\" + 0.014*\"course\" + 0.013*\"care\" + 0.013*\"informatics\" + 0.010*\"system\" + 0.010*\"data\" + 0.007*\"project\"'), (4, '0.030*\"health\" + 0.015*\"information\" + 0.012*\"healthcare\" + 0.012*\"course\" + 0.012*\"student\" + 0.010*\"informatics\" + 0.009*\"system\" + 0.008*\"care\" + 0.008*\"project\" + 0.007*\"data\"')]\n"
          ]
        },
        {
          "output_type": "stream",
          "name": "stderr",
          "text": [
            "WARNING:gensim.models.ldamodel:too few updates, training might not converge; consider increasing the number of passes or iterations to improve accuracy\n"
          ]
        },
        {
          "output_type": "stream",
          "name": "stdout",
          "text": [
            "[(0, '0.018*\"health\" + 0.017*\"system\" + 0.015*\"course\" + 0.014*\"information\" + 0.009*\"data\" + 0.008*\"c\" + 0.008*\"design\" + 0.008*\"healthcare\" + 0.006*\"concept\" + 0.006*\"met\"'), (1, '0.026*\"system\" + 0.024*\"health\" + 0.020*\"course\" + 0.018*\"information\" + 0.012*\"c\" + 0.012*\"management\" + 0.011*\"data\" + 0.008*\"design\" + 0.008*\"concept\" + 0.008*\"healthcare\"'), (2, '0.027*\"information\" + 0.024*\"course\" + 0.024*\"health\" + 0.019*\"system\" + 0.013*\"design\" + 0.011*\"management\" + 0.011*\"data\" + 0.008*\"c\" + 0.008*\"met\" + 0.008*\"healthcare\"'), (3, '0.023*\"health\" + 0.022*\"course\" + 0.019*\"system\" + 0.013*\"information\" + 0.012*\"data\" + 0.010*\"c\" + 0.010*\"met\" + 0.009*\"management\" + 0.008*\"design\" + 0.008*\"healthcare\"'), (4, '0.028*\"health\" + 0.019*\"course\" + 0.019*\"information\" + 0.014*\"system\" + 0.012*\"management\" + 0.012*\"data\" + 0.011*\"design\" + 0.011*\"healthcare\" + 0.010*\"c\" + 0.009*\"met\"')]\n"
          ]
        },
        {
          "output_type": "stream",
          "name": "stderr",
          "text": [
            "WARNING:gensim.models.ldamodel:too few updates, training might not converge; consider increasing the number of passes or iterations to improve accuracy\n"
          ]
        },
        {
          "output_type": "stream",
          "name": "stdout",
          "text": [
            "[(0, '0.046*\"health\" + 0.024*\"data\" + 0.020*\"course\" + 0.019*\"student\" + 0.018*\"information\" + 0.016*\"healthcare\" + 0.013*\"management\" + 0.011*\"project\" + 0.011*\"informatics\" + 0.010*\"technology\"'), (1, '0.051*\"health\" + 0.026*\"course\" + 0.024*\"data\" + 0.022*\"student\" + 0.021*\"healthcare\" + 0.017*\"project\" + 0.013*\"management\" + 0.012*\"information\" + 0.010*\"technology\" + 0.008*\"topic\"'), (2, '0.034*\"health\" + 0.027*\"course\" + 0.024*\"data\" + 0.018*\"healthcare\" + 0.017*\"information\" + 0.014*\"project\" + 0.014*\"student\" + 0.010*\"technology\" + 0.010*\"management\" + 0.010*\"informatics\"'), (3, '0.033*\"health\" + 0.013*\"information\" + 0.012*\"data\" + 0.010*\"course\" + 0.010*\"student\" + 0.010*\"informatics\" + 0.009*\"healthcare\" + 0.009*\"management\" + 0.008*\"project\" + 0.007*\"topic\"'), (4, '0.043*\"health\" + 0.028*\"data\" + 0.024*\"course\" + 0.019*\"information\" + 0.019*\"healthcare\" + 0.017*\"project\" + 0.014*\"student\" + 0.014*\"management\" + 0.011*\"informatics\" + 0.011*\"technology\"')]\n"
          ]
        },
        {
          "output_type": "stream",
          "name": "stderr",
          "text": [
            "WARNING:gensim.models.ldamodel:too few updates, training might not converge; consider increasing the number of passes or iterations to improve accuracy\n"
          ]
        },
        {
          "output_type": "stream",
          "name": "stdout",
          "text": [
            "[(0, '0.016*\"health\" + 0.011*\"information\" + 0.011*\"informatics\" + 0.011*\"healthcare\" + 0.009*\"course\" + 0.009*\"management\" + 0.008*\"designed\" + 0.008*\"study\" + 0.007*\"3this\" + 0.007*\"provide\"'), (1, '0.032*\"health\" + 0.023*\"informatics\" + 0.018*\"course\" + 0.017*\"healthcare\" + 0.017*\"information\" + 0.014*\"designed\" + 0.012*\"management\" + 0.011*\"study\" + 0.011*\"provide\" + 0.011*\"data\"'), (2, '0.040*\"health\" + 0.025*\"course\" + 0.025*\"informatics\" + 0.022*\"healthcare\" + 0.020*\"management\" + 0.019*\"designed\" + 0.018*\"information\" + 0.012*\"data\" + 0.011*\"student\" + 0.011*\"study\"'), (3, '0.043*\"health\" + 0.025*\"informatics\" + 0.019*\"healthcare\" + 0.018*\"information\" + 0.014*\"course\" + 0.014*\"designed\" + 0.011*\"study\" + 0.011*\"provide\" + 0.011*\"data\" + 0.010*\"management\"'), (4, '0.041*\"health\" + 0.021*\"healthcare\" + 0.019*\"informatics\" + 0.015*\"course\" + 0.014*\"information\" + 0.014*\"designed\" + 0.011*\"management\" + 0.011*\"provide\" + 0.010*\"discussion\" + 0.010*\"3this\"')]\n"
          ]
        },
        {
          "output_type": "stream",
          "name": "stderr",
          "text": [
            "WARNING:gensim.models.ldamodel:too few updates, training might not converge; consider increasing the number of passes or iterations to improve accuracy\n"
          ]
        },
        {
          "output_type": "stream",
          "name": "stdout",
          "text": [
            "[(0, '0.007*\"health\" + 0.005*\"care\" + 0.004*\"management\" + 0.004*\"information\" + 0.004*\"data\" + 0.004*\"course\" + 0.004*\"cover\" + 0.004*\"organization\" + 0.004*\"system\" + 0.004*\"electronic\"'), (1, '0.063*\"health\" + 0.026*\"care\" + 0.021*\"course\" + 0.019*\"information\" + 0.018*\"management\" + 0.018*\"3this\" + 0.016*\"data\" + 0.011*\"system\" + 0.010*\"electronic\" + 0.009*\"business\"'), (2, '0.067*\"health\" + 0.023*\"care\" + 0.019*\"management\" + 0.017*\"information\" + 0.016*\"data\" + 0.012*\"3this\" + 0.011*\"cover\" + 0.011*\"system\" + 0.010*\"organization\" + 0.010*\"course\"'), (3, '0.058*\"health\" + 0.027*\"management\" + 0.022*\"care\" + 0.020*\"data\" + 0.020*\"course\" + 0.020*\"information\" + 0.014*\"3this\" + 0.010*\"cover\" + 0.010*\"system\" + 0.009*\"enterprise\"'), (4, '0.033*\"health\" + 0.016*\"information\" + 0.014*\"care\" + 0.010*\"management\" + 0.010*\"course\" + 0.010*\"data\" + 0.009*\"cover\" + 0.008*\"organization\" + 0.008*\"3this\" + 0.007*\"system\"')]\n"
          ]
        },
        {
          "output_type": "stream",
          "name": "stderr",
          "text": [
            "WARNING:gensim.models.ldamodel:too few updates, training might not converge; consider increasing the number of passes or iterations to improve accuracy\n"
          ]
        },
        {
          "output_type": "stream",
          "name": "stdout",
          "text": [
            "[(0, '0.036*\"health\" + 0.024*\"information\" + 0.017*\"management\" + 0.014*\"3hi\" + 0.013*\"track\" + 0.013*\"system\" + 0.011*\"care\" + 0.009*\"graduate\" + 0.009*\"informatics\" + 0.009*\"prepares\"'), (1, '0.073*\"health\" + 0.050*\"information\" + 0.035*\"management\" + 0.027*\"care\" + 0.022*\"track\" + 0.021*\"3hi\" + 0.020*\"system\" + 0.013*\"informatics\" + 0.012*\"graduate\" + 0.011*\"electronic\"'), (2, '0.031*\"health\" + 0.027*\"information\" + 0.022*\"management\" + 0.017*\"track\" + 0.017*\"care\" + 0.013*\"3hi\" + 0.011*\"system\" + 0.009*\"graduate\" + 0.008*\"prepares\" + 0.008*\"program\"'), (3, '0.071*\"health\" + 0.041*\"information\" + 0.029*\"management\" + 0.024*\"system\" + 0.022*\"3hi\" + 0.019*\"care\" + 0.019*\"track\" + 0.012*\"graduate\" + 0.012*\"informatics\" + 0.012*\"prepares\"'), (4, '0.005*\"health\" + 0.005*\"information\" + 0.005*\"management\" + 0.005*\"care\" + 0.005*\"track\" + 0.005*\"3hi\" + 0.005*\"system\" + 0.005*\"electronic\" + 0.005*\"data\" + 0.005*\"graduate\"')]\n"
          ]
        },
        {
          "output_type": "stream",
          "name": "stderr",
          "text": [
            "WARNING:gensim.models.ldamodel:too few updates, training might not converge; consider increasing the number of passes or iterations to improve accuracy\n"
          ]
        },
        {
          "output_type": "stream",
          "name": "stdout",
          "text": [
            "[(0, '0.046*\"health\" + 0.024*\"care\" + 0.018*\"hour\" + 0.016*\"data\" + 0.014*\"information\" + 0.013*\"system\" + 0.012*\"course\" + 0.010*\"application\" + 0.009*\"healthcare\" + 0.009*\"decision\"'), (1, '0.041*\"health\" + 0.021*\"data\" + 0.020*\"care\" + 0.019*\"information\" + 0.019*\"hour\" + 0.018*\"system\" + 0.013*\"course\" + 0.010*\"healthcare\" + 0.010*\"application\" + 0.009*\"consumer\"'), (2, '0.057*\"health\" + 0.025*\"information\" + 0.021*\"care\" + 0.018*\"hour\" + 0.013*\"data\" + 0.012*\"system\" + 0.012*\"course\" + 0.009*\"healthcare\" + 0.009*\"informatics\" + 0.009*\"knowledge\"'), (3, '0.025*\"health\" + 0.019*\"care\" + 0.016*\"system\" + 0.013*\"data\" + 0.012*\"information\" + 0.011*\"hour\" + 0.009*\"course\" + 0.008*\"application\" + 0.008*\"consumer\" + 0.007*\"analysis\"'), (4, '0.013*\"health\" + 0.010*\"care\" + 0.009*\"information\" + 0.009*\"hour\" + 0.007*\"course\" + 0.007*\"data\" + 0.007*\"system\" + 0.006*\"application\" + 0.006*\"healthcare\" + 0.006*\"use\"')]\n"
          ]
        }
      ]
    },
    {
      "cell_type": "code",
      "source": [
        "document_topics"
      ],
      "metadata": {
        "colab": {
          "base_uri": "https://localhost:8080/"
        },
        "id": "83Vk5vBSWkvx",
        "outputId": "8bb8c1d1-8047-4cf6-b171-3b5a5d7c78ed"
      },
      "execution_count": null,
      "outputs": [
        {
          "output_type": "execute_result",
          "data": {
            "text/plain": [
              "{'University of South Carolina.docx': ['issue',\n",
              "  'credit',\n",
              "  'management',\n",
              "  'course',\n",
              "  'design',\n",
              "  'care',\n",
              "  'application',\n",
              "  'practice',\n",
              "  'technology',\n",
              "  'information',\n",
              "  'health',\n",
              "  'public',\n",
              "  'system'],\n",
              " 'U of Central Florida- Msc HI.docx': ['credit',\n",
              "  'course',\n",
              "  'management',\n",
              "  'care',\n",
              "  'hour',\n",
              "  'health',\n",
              "  'student',\n",
              "  'technology',\n",
              "  'information',\n",
              "  'data',\n",
              "  'decision',\n",
              "  'informatics',\n",
              "  'area',\n",
              "  'system'],\n",
              " 'U of Alabama at Birmingham-2.docx': ['research',\n",
              "  'course',\n",
              "  'project',\n",
              "  'problem',\n",
              "  'application',\n",
              "  'health',\n",
              "  'data',\n",
              "  'capstone',\n",
              "  'development',\n",
              "  'method',\n",
              "  'informatics',\n",
              "  'system',\n",
              "  'healthcare'],\n",
              " 'The University of Scranton.docx': ['course',\n",
              "  'management',\n",
              "  'cr',\n",
              "  'care',\n",
              "  'technique',\n",
              "  'technology',\n",
              "  'health',\n",
              "  'information',\n",
              "  'data',\n",
              "  'informatics',\n",
              "  'system',\n",
              "  'healthcare'],\n",
              " 'Southern Illinois U Edwardsvill.docx': ['credit',\n",
              "  'project',\n",
              "  'hour',\n",
              "  'information',\n",
              "  'student',\n",
              "  'using',\n",
              "  'capstone',\n",
              "  'solution',\n",
              "  'informatics',\n",
              "  'quality',\n",
              "  'system',\n",
              "  'healthcare',\n",
              "  'process'],\n",
              " 'Oregon Health _ Science U.docx': ['research',\n",
              "  'course',\n",
              "  'design',\n",
              "  'project',\n",
              "  'care',\n",
              "  'biomedical',\n",
              "  'information',\n",
              "  'health',\n",
              "  'student',\n",
              "  'data',\n",
              "  'including',\n",
              "  'informatics',\n",
              "  'clinical',\n",
              "  'use'],\n",
              " 'Nova Southeastern University.docx': ['management',\n",
              "  'course',\n",
              "  'care',\n",
              "  'application',\n",
              "  'information',\n",
              "  'health',\n",
              "  'student',\n",
              "  'data',\n",
              "  'analysis',\n",
              "  'method',\n",
              "  'clinical',\n",
              "  'system',\n",
              "  'healthcare'],\n",
              " 'The College of St. Scholastica.docx': ['research',\n",
              "  'project',\n",
              "  'cr',\n",
              "  'information',\n",
              "  'health',\n",
              "  'student',\n",
              "  'data',\n",
              "  'method',\n",
              "  'informatics',\n",
              "  'system',\n",
              "  'healthcare'],\n",
              " 'Medical U of South Carolina.docx': ['research',\n",
              "  'course',\n",
              "  'project',\n",
              "  'care',\n",
              "  'creditsthis',\n",
              "  'gain',\n",
              "  'student',\n",
              "  'health',\n",
              "  'information',\n",
              "  'data',\n",
              "  'topic',\n",
              "  'informatics',\n",
              "  's.h.hin',\n",
              "  'system'],\n",
              " 'Mississippi -1.docx': ['hi',\n",
              "  'management',\n",
              "  'track',\n",
              "  'care',\n",
              "  '3hi',\n",
              "  'program',\n",
              "  'information',\n",
              "  'health',\n",
              "  'electronic',\n",
              "  'student',\n",
              "  'informatics',\n",
              "  'graduate',\n",
              "  'system'],\n",
              " 'U of Alabama at Birmingham-3.docx': ['research',\n",
              "  'project',\n",
              "  'problem',\n",
              "  'health',\n",
              "  'data',\n",
              "  'capstone',\n",
              "  'development',\n",
              "  'method',\n",
              "  'informatics',\n",
              "  'system',\n",
              "  'healthcare'],\n",
              " 'U of Alabama at Birmingham-1.docx': ['tool',\n",
              "  'management',\n",
              "  'project',\n",
              "  'analytics',\n",
              "  'health',\n",
              "  'data',\n",
              "  'capstone',\n",
              "  'development',\n",
              "  'method',\n",
              "  'informatics',\n",
              "  'database',\n",
              "  'system',\n",
              "  'healthcare'],\n",
              " 'George Mason University-4.docx': ['mining',\n",
              "  'statistical',\n",
              "  'course',\n",
              "  'technique',\n",
              "  'using',\n",
              "  'health',\n",
              "  'student',\n",
              "  'understand',\n",
              "  'data',\n",
              "  'analysis',\n",
              "  'decision',\n",
              "  'method',\n",
              "  'application',\n",
              "  'including'],\n",
              " 'George Mason University-3.docx': ['course',\n",
              "  'management',\n",
              "  'knowledge',\n",
              "  'describe',\n",
              "  'consumer',\n",
              "  'care',\n",
              "  'health',\n",
              "  'student',\n",
              "  'information',\n",
              "  'data',\n",
              "  'decision',\n",
              "  'population',\n",
              "  'method',\n",
              "  'informatics',\n",
              "  'disease'],\n",
              " 'George Mason University-2.docx': ['offered',\n",
              "  'management',\n",
              "  'design',\n",
              "  'project',\n",
              "  'care',\n",
              "  'organization',\n",
              "  'policy',\n",
              "  'health',\n",
              "  'information',\n",
              "  'service',\n",
              "  'may',\n",
              "  'analysis',\n",
              "  'quality',\n",
              "  'system',\n",
              "  'healthcare',\n",
              "  'process'],\n",
              " 'Minnesota.docx': ['research',\n",
              "  'care',\n",
              "  'evaluation',\n",
              "  'information',\n",
              "  'health',\n",
              "  'data',\n",
              "  'science',\n",
              "  'analysis',\n",
              "  'decision',\n",
              "  'method',\n",
              "  'informatics',\n",
              "  'database',\n",
              "  'clinical',\n",
              "  'system'],\n",
              " 'Kansas Medical Center.docx': ['course',\n",
              "  'management',\n",
              "  'project',\n",
              "  'care',\n",
              "  'practice',\n",
              "  'health',\n",
              "  'student',\n",
              "  'information',\n",
              "  'development',\n",
              "  'communication',\n",
              "  '3cr',\n",
              "  'system',\n",
              "  'concept'],\n",
              " 'Louisiana Tech University -1.docx': ['credit',\n",
              "  '0-3-3',\n",
              "  'application',\n",
              "  'study',\n",
              "  'hour',\n",
              "  'health',\n",
              "  'information',\n",
              "  'informatics',\n",
              "  'semester',\n",
              "  'system',\n",
              "  'healthcare'],\n",
              " 'Marshall University-1.docx': ['credit',\n",
              "  'management',\n",
              "  'care',\n",
              "  'hour',\n",
              "  'health',\n",
              "  'student',\n",
              "  'technology',\n",
              "  'data',\n",
              "  'information',\n",
              "  'program',\n",
              "  'informatics',\n",
              "  'system'],\n",
              " 'Illinois at Chicago-2.docx': ['course',\n",
              "  'consent',\n",
              "  'online',\n",
              "  'hour',\n",
              "  'health',\n",
              "  'student',\n",
              "  'prerequisite',\n",
              "  'data',\n",
              "  'required',\n",
              "  'science',\n",
              "  'grade',\n",
              "  'information',\n",
              "  'bhis',\n",
              "  'computer',\n",
              "  'healthcare'],\n",
              " 'Illinois at Chicago-3.docx': ['management',\n",
              "  'leadership',\n",
              "  'project',\n",
              "  'consent',\n",
              "  'hour',\n",
              "  'health',\n",
              "  'prerequisite',\n",
              "  'information',\n",
              "  'student',\n",
              "  'bhis',\n",
              "  'informatics',\n",
              "  'healthcare'],\n",
              " 'Illinois at Chicago-1.docx': ['use',\n",
              "  'course',\n",
              "  'mobile',\n",
              "  'consumer',\n",
              "  'hour',\n",
              "  'information',\n",
              "  'health',\n",
              "  'technology',\n",
              "  'required',\n",
              "  'student',\n",
              "  'prerequisite',\n",
              "  'bhis',\n",
              "  'informatics',\n",
              "  'computer',\n",
              "  'method'],\n",
              " 'Illinois at Chicago.docx': ['course',\n",
              "  'consent',\n",
              "  'hour',\n",
              "  'health',\n",
              "  'information',\n",
              "  'prerequisite',\n",
              "  'data',\n",
              "  'instructor.bhis',\n",
              "  'bhis',\n",
              "  'informatics',\n",
              "  '510',\n",
              "  'healthcare'],\n",
              " 'Indiana University - 1.docx': ['research',\n",
              "  'course',\n",
              "  'design',\n",
              "  'project',\n",
              "  'human',\n",
              "  'technology',\n",
              "  'information',\n",
              "  'health',\n",
              "  'data',\n",
              "  'patient',\n",
              "  'informatics',\n",
              "  'factor',\n",
              "  'clinical',\n",
              "  'system',\n",
              "  'healthcare'],\n",
              " 'George Mason University-5.docx': ['offered',\n",
              "  'course',\n",
              "  'management',\n",
              "  'standard',\n",
              "  'information',\n",
              "  'student',\n",
              "  'health',\n",
              "  'data',\n",
              "  'understand',\n",
              "  'tool',\n",
              "  'informatics',\n",
              "  'database',\n",
              "  'system',\n",
              "  'healthcare'],\n",
              " 'Drexel University.docx': ['course',\n",
              "  '3.0',\n",
              "  'design',\n",
              "  'health',\n",
              "  'student',\n",
              "  'information',\n",
              "  'data',\n",
              "  'science',\n",
              "  'experience',\n",
              "  'analysis',\n",
              "  'method',\n",
              "  'database',\n",
              "  'system',\n",
              "  'healthcare'],\n",
              " 'East Carolina University.docx': ['curriculum',\n",
              "  'management',\n",
              "  'knowledge',\n",
              "  'internship',\n",
              "  'care',\n",
              "  'degree',\n",
              "  'information',\n",
              "  'health',\n",
              "  'student',\n",
              "  'data',\n",
              "  'cohe',\n",
              "  'informatics',\n",
              "  'ms-hiim'],\n",
              " 'Boston University-MS in Applied Data Analytics Concentration.docx': ['course',\n",
              "  'management',\n",
              "  'cr',\n",
              "  'analytics',\n",
              "  'information',\n",
              "  'c',\n",
              "  'met',\n",
              "  'data',\n",
              "  'health',\n",
              "  'student',\n",
              "  'medical',\n",
              "  'system',\n",
              "  'concept'],\n",
              " 'Boston University- Msc. HI-Health Information Concentration_.docx': ['course',\n",
              "  'management',\n",
              "  'design',\n",
              "  'cr',\n",
              "  'health',\n",
              "  'information',\n",
              "  'met',\n",
              "  'student',\n",
              "  'c',\n",
              "  'medical',\n",
              "  'development',\n",
              "  'system',\n",
              "  'concept'],\n",
              " 'Florida International University-1.docx': ['course',\n",
              "  'project',\n",
              "  'care',\n",
              "  'student',\n",
              "  'health',\n",
              "  'information',\n",
              "  'data',\n",
              "  'informatics',\n",
              "  'quality',\n",
              "  'system',\n",
              "  'healthcare'],\n",
              " 'Boston University - Msc. HI - General -2.docx': ['course',\n",
              "  'design',\n",
              "  'management',\n",
              "  'information',\n",
              "  'health',\n",
              "  'c',\n",
              "  'data',\n",
              "  'met',\n",
              "  'system',\n",
              "  'healthcare',\n",
              "  'concept'],\n",
              " 'University of Cincinnati - MHI.docx': ['course',\n",
              "  'management',\n",
              "  'project',\n",
              "  'technology',\n",
              "  'student',\n",
              "  'information',\n",
              "  'health',\n",
              "  'data',\n",
              "  'topic',\n",
              "  'informatics',\n",
              "  'healthcare'],\n",
              " 'University of South Florida.docx': ['designed',\n",
              "  'course',\n",
              "  'management',\n",
              "  'provide',\n",
              "  'study',\n",
              "  '3this',\n",
              "  'information',\n",
              "  'health',\n",
              "  'student',\n",
              "  'data',\n",
              "  'informatics',\n",
              "  'healthcare',\n",
              "  'discussion'],\n",
              " 'University of Washington_MHIHIM.docx': ['business',\n",
              "  'management',\n",
              "  'course',\n",
              "  'enterprise',\n",
              "  'care',\n",
              "  'organization',\n",
              "  '3this',\n",
              "  'electronic',\n",
              "  'information',\n",
              "  'health',\n",
              "  'cover',\n",
              "  'data',\n",
              "  'system'],\n",
              " 'University of Mississippi.docx': ['prepares',\n",
              "  'management',\n",
              "  'track',\n",
              "  'care',\n",
              "  '3hi',\n",
              "  'electronic',\n",
              "  'information',\n",
              "  'health',\n",
              "  'program',\n",
              "  'data',\n",
              "  'informatics',\n",
              "  'graduate',\n",
              "  'system'],\n",
              " 'University of Missouri.docx': ['course',\n",
              "  'knowledge',\n",
              "  'care',\n",
              "  'application',\n",
              "  'hour',\n",
              "  'information',\n",
              "  'health',\n",
              "  'data',\n",
              "  'decision',\n",
              "  'analysis',\n",
              "  'consumer',\n",
              "  'informatics',\n",
              "  'system',\n",
              "  'healthcare',\n",
              "  'use']}"
            ]
          },
          "metadata": {},
          "execution_count": 18
        }
      ]
    },
    {
      "cell_type": "code",
      "source": [
        "excel_data = pd.read_excel('/content/drive/MyDrive/HIT Competencies.xlsx')\n",
        "sentences = excel_data['Competency']\n",
        "codes = excel_data['Code']"
      ],
      "metadata": {
        "id": "-xeDVefJWsDO"
      },
      "execution_count": null,
      "outputs": []
    },
    {
      "cell_type": "code",
      "source": [
        "vectorizer = CountVectorizer()\n",
        "sentence_vectors = vectorizer.fit_transform(sentences)\n"
      ],
      "metadata": {
        "id": "XS6BNPjtWz2b"
      },
      "execution_count": null,
      "outputs": []
    },
    {
      "cell_type": "code",
      "source": [
        "for document, topics in document_topics.items():\n",
        "  print(f\"Topics for {document}:\")\n",
        "  print(topics)\n",
        "  print(\"\")\n",
        "  for topic in topics:\n",
        "    topic_vector = vectorizer.transform([topic])\n",
        "    similarities = cosine_similarity(topic_vector, sentence_vectors)\n",
        "    max_similarity_index = similarities.argmax()\n",
        "    most_similar_sentence = sentences[max_similarity_index]\n",
        "    corresponding_code = codes[max_similarity_index]\n",
        "    # print(f\"Most similar sentence: {most_similar_sentence}\")\n",
        "    print(f\"Corresponding code: {corresponding_code}\")"
      ],
      "metadata": {
        "colab": {
          "base_uri": "https://localhost:8080/"
        },
        "id": "5Fl2HqZoW1ic",
        "outputId": "66e591c0-e488-4d3a-aadd-0858911deda4"
      },
      "execution_count": null,
      "outputs": [
        {
          "output_type": "stream",
          "name": "stdout",
          "text": [
            "Topics for University of South Carolina.docx:\n",
            "['issue', 'credit', 'management', 'course', 'design', 'care', 'application', 'practice', 'technology', 'information', 'health', 'public', 'system']\n",
            "\n",
            "Corresponding code: LE04\n",
            "Corresponding code: AA01\n",
            "Corresponding code: FN08\n",
            "Corresponding code: AA01\n",
            "Corresponding code: KB02\n",
            "Corresponding code: BN01\n",
            "Corresponding code: AAE08\n",
            "Corresponding code: TL02\n",
            "Corresponding code: JB05\n",
            "Corresponding code: FFN02\n",
            "Corresponding code: EL04\n",
            "Corresponding code: QL01\n",
            "Corresponding code: EEE07\n",
            "Topics for U of Central Florida- Msc HI.docx:\n",
            "['credit', 'course', 'management', 'care', 'hour', 'health', 'student', 'technology', 'information', 'data', 'decision', 'informatics', 'area', 'system']\n",
            "\n",
            "Corresponding code: AA01\n",
            "Corresponding code: AA01\n",
            "Corresponding code: FN08\n",
            "Corresponding code: BN01\n",
            "Corresponding code: AA01\n",
            "Corresponding code: EL04\n",
            "Corresponding code: AA01\n",
            "Corresponding code: JB05\n",
            "Corresponding code: FFN02\n",
            "Corresponding code: GL03\n",
            "Corresponding code: CE02\n",
            "Corresponding code: FFB04\n",
            "Corresponding code: VN06\n",
            "Corresponding code: EEE07\n",
            "Topics for U of Alabama at Birmingham-2.docx:\n",
            "['research', 'course', 'project', 'problem', 'application', 'health', 'data', 'capstone', 'development', 'method', 'informatics', 'system', 'healthcare']\n",
            "\n",
            "Corresponding code: CN14\n",
            "Corresponding code: AA01\n",
            "Corresponding code: BBA03\n",
            "Corresponding code: LN08\n",
            "Corresponding code: AAE08\n",
            "Corresponding code: EL04\n",
            "Corresponding code: GL03\n",
            "Corresponding code: AA01\n",
            "Corresponding code: TB03\n",
            "Corresponding code: AA01\n",
            "Corresponding code: FFB04\n",
            "Corresponding code: EEE07\n",
            "Corresponding code: EEN15\n",
            "Topics for The University of Scranton.docx:\n",
            "['course', 'management', 'cr', 'care', 'technique', 'technology', 'health', 'information', 'data', 'informatics', 'system', 'healthcare']\n",
            "\n",
            "Corresponding code: AA01\n",
            "Corresponding code: FN08\n",
            "Corresponding code: AA01\n",
            "Corresponding code: BN01\n",
            "Corresponding code: AA01\n",
            "Corresponding code: JB05\n",
            "Corresponding code: EL04\n",
            "Corresponding code: FFN02\n",
            "Corresponding code: GL03\n",
            "Corresponding code: FFB04\n",
            "Corresponding code: EEE07\n",
            "Corresponding code: EEN15\n",
            "Topics for Southern Illinois U Edwardsvill.docx:\n",
            "['credit', 'project', 'hour', 'information', 'student', 'using', 'capstone', 'solution', 'informatics', 'quality', 'system', 'healthcare', 'process']\n",
            "\n",
            "Corresponding code: AA01\n",
            "Corresponding code: BBA03\n",
            "Corresponding code: AA01\n",
            "Corresponding code: FFN02\n",
            "Corresponding code: AA01\n",
            "Corresponding code: GN02\n",
            "Corresponding code: AA01\n",
            "Corresponding code: LB08\n",
            "Corresponding code: FFB04\n",
            "Corresponding code: TB07\n",
            "Corresponding code: EEE07\n",
            "Corresponding code: EEN15\n",
            "Corresponding code: EEA04\n",
            "Topics for Oregon Health _ Science U.docx:\n",
            "['research', 'course', 'design', 'project', 'care', 'biomedical', 'information', 'health', 'student', 'data', 'including', 'informatics', 'clinical', 'use']\n",
            "\n",
            "Corresponding code: CN14\n",
            "Corresponding code: AA01\n",
            "Corresponding code: KB02\n",
            "Corresponding code: BBA03\n",
            "Corresponding code: BN01\n",
            "Corresponding code: CCN30\n",
            "Corresponding code: FFN02\n",
            "Corresponding code: EL04\n",
            "Corresponding code: AA01\n",
            "Corresponding code: GL03\n",
            "Corresponding code: VN01\n",
            "Corresponding code: FFB04\n",
            "Corresponding code: DN11\n",
            "Corresponding code: PL04\n",
            "Topics for Nova Southeastern University.docx:\n",
            "['management', 'course', 'care', 'application', 'information', 'health', 'student', 'data', 'analysis', 'method', 'clinical', 'system', 'healthcare']\n",
            "\n",
            "Corresponding code: FN08\n",
            "Corresponding code: AA01\n",
            "Corresponding code: BN01\n",
            "Corresponding code: AAE08\n",
            "Corresponding code: FFN02\n",
            "Corresponding code: EL04\n",
            "Corresponding code: AA01\n",
            "Corresponding code: GL03\n",
            "Corresponding code: GB16\n",
            "Corresponding code: AA01\n",
            "Corresponding code: DN11\n",
            "Corresponding code: EEE07\n",
            "Corresponding code: EEN15\n",
            "Topics for The College of St. Scholastica.docx:\n",
            "['research', 'project', 'cr', 'information', 'health', 'student', 'data', 'method', 'informatics', 'system', 'healthcare']\n",
            "\n",
            "Corresponding code: CN14\n",
            "Corresponding code: BBA03\n",
            "Corresponding code: AA01\n",
            "Corresponding code: FFN02\n",
            "Corresponding code: EL04\n",
            "Corresponding code: AA01\n",
            "Corresponding code: GL03\n",
            "Corresponding code: AA01\n",
            "Corresponding code: FFB04\n",
            "Corresponding code: EEE07\n",
            "Corresponding code: EEN15\n",
            "Topics for Medical U of South Carolina.docx:\n",
            "['research', 'course', 'project', 'care', 'creditsthis', 'gain', 'student', 'health', 'information', 'data', 'topic', 'informatics', 's.h.hin', 'system']\n",
            "\n",
            "Corresponding code: CN14\n",
            "Corresponding code: AA01\n",
            "Corresponding code: BBA03\n",
            "Corresponding code: BN01\n",
            "Corresponding code: AA01\n",
            "Corresponding code: AA01\n",
            "Corresponding code: AA01\n",
            "Corresponding code: EL04\n",
            "Corresponding code: FFN02\n",
            "Corresponding code: GL03\n",
            "Corresponding code: AA01\n",
            "Corresponding code: FFB04\n",
            "Corresponding code: AA01\n",
            "Corresponding code: EEE07\n",
            "Topics for Mississippi -1.docx:\n",
            "['hi', 'management', 'track', 'care', '3hi', 'program', 'information', 'health', 'electronic', 'student', 'informatics', 'graduate', 'system']\n",
            "\n",
            "Corresponding code: AA01\n",
            "Corresponding code: FN08\n",
            "Corresponding code: LB08\n",
            "Corresponding code: BN01\n",
            "Corresponding code: AA01\n",
            "Corresponding code: BBN07\n",
            "Corresponding code: FFN02\n",
            "Corresponding code: EL04\n",
            "Corresponding code: MA02\n",
            "Corresponding code: AA01\n",
            "Corresponding code: FFB04\n",
            "Corresponding code: AA01\n",
            "Corresponding code: EEE07\n",
            "Topics for U of Alabama at Birmingham-3.docx:\n",
            "['research', 'project', 'problem', 'health', 'data', 'capstone', 'development', 'method', 'informatics', 'system', 'healthcare']\n",
            "\n",
            "Corresponding code: CN14\n",
            "Corresponding code: BBA03\n",
            "Corresponding code: LN08\n",
            "Corresponding code: EL04\n",
            "Corresponding code: GL03\n",
            "Corresponding code: AA01\n",
            "Corresponding code: TB03\n",
            "Corresponding code: AA01\n",
            "Corresponding code: FFB04\n",
            "Corresponding code: EEE07\n",
            "Corresponding code: EEN15\n",
            "Topics for U of Alabama at Birmingham-1.docx:\n",
            "['tool', 'management', 'project', 'analytics', 'health', 'data', 'capstone', 'development', 'method', 'informatics', 'database', 'system', 'healthcare']\n",
            "\n",
            "Corresponding code: JL02\n",
            "Corresponding code: FN08\n",
            "Corresponding code: BBA03\n",
            "Corresponding code: CN15\n",
            "Corresponding code: EL04\n",
            "Corresponding code: GL03\n",
            "Corresponding code: AA01\n",
            "Corresponding code: TB03\n",
            "Corresponding code: AA01\n",
            "Corresponding code: FFB04\n",
            "Corresponding code: GB05\n",
            "Corresponding code: EEE07\n",
            "Corresponding code: EEN15\n",
            "Topics for George Mason University-4.docx:\n",
            "['mining', 'statistical', 'course', 'technique', 'using', 'health', 'student', 'understand', 'data', 'analysis', 'decision', 'method', 'application', 'including']\n",
            "\n",
            "Corresponding code: GB18\n",
            "Corresponding code: CCN12\n",
            "Corresponding code: AA01\n",
            "Corresponding code: AA01\n",
            "Corresponding code: GN02\n",
            "Corresponding code: EL04\n",
            "Corresponding code: AA01\n",
            "Corresponding code: HB07\n",
            "Corresponding code: GL03\n",
            "Corresponding code: GB16\n",
            "Corresponding code: CE02\n",
            "Corresponding code: AA01\n",
            "Corresponding code: AAE08\n",
            "Corresponding code: VN01\n",
            "Topics for George Mason University-3.docx:\n",
            "['course', 'management', 'knowledge', 'describe', 'consumer', 'care', 'health', 'student', 'information', 'data', 'decision', 'population', 'method', 'informatics', 'disease']\n",
            "\n",
            "Corresponding code: AA01\n",
            "Corresponding code: FN08\n",
            "Corresponding code: AAE03\n",
            "Corresponding code: EEN16\n",
            "Corresponding code: AB02\n",
            "Corresponding code: BN01\n",
            "Corresponding code: EL04\n",
            "Corresponding code: AA01\n",
            "Corresponding code: FFN02\n",
            "Corresponding code: GL03\n",
            "Corresponding code: CE02\n",
            "Corresponding code: QL01\n",
            "Corresponding code: AA01\n",
            "Corresponding code: FFB04\n",
            "Corresponding code: EB02\n",
            "Topics for George Mason University-2.docx:\n",
            "['offered', 'management', 'design', 'project', 'care', 'organization', 'policy', 'health', 'information', 'service', 'may', 'analysis', 'quality', 'system', 'healthcare', 'process']\n",
            "\n",
            "Corresponding code: JN06\n",
            "Corresponding code: FN08\n",
            "Corresponding code: KB02\n",
            "Corresponding code: BBA03\n",
            "Corresponding code: BN01\n",
            "Corresponding code: RA08\n",
            "Corresponding code: GGE01\n",
            "Corresponding code: EL04\n",
            "Corresponding code: FFN02\n",
            "Corresponding code: FE05\n",
            "Corresponding code: JB07\n",
            "Corresponding code: GB16\n",
            "Corresponding code: TB07\n",
            "Corresponding code: EEE07\n",
            "Corresponding code: EEN15\n",
            "Corresponding code: EEA04\n",
            "Topics for Minnesota.docx:\n",
            "['research', 'care', 'evaluation', 'information', 'health', 'data', 'science', 'analysis', 'decision', 'method', 'informatics', 'database', 'clinical', 'system']\n",
            "\n",
            "Corresponding code: CN14\n",
            "Corresponding code: BN01\n",
            "Corresponding code: EEA08\n",
            "Corresponding code: FFN02\n",
            "Corresponding code: EL04\n",
            "Corresponding code: GL03\n",
            "Corresponding code: DDN08\n",
            "Corresponding code: GB16\n",
            "Corresponding code: CE02\n",
            "Corresponding code: AA01\n",
            "Corresponding code: FFB04\n",
            "Corresponding code: GB05\n",
            "Corresponding code: DN11\n",
            "Corresponding code: EEE07\n",
            "Topics for Kansas Medical Center.docx:\n",
            "['course', 'management', 'project', 'care', 'practice', 'health', 'student', 'information', 'development', 'communication', '3cr', 'system', 'concept']\n",
            "\n",
            "Corresponding code: AA01\n",
            "Corresponding code: FN08\n",
            "Corresponding code: BBA03\n",
            "Corresponding code: BN01\n",
            "Corresponding code: TL02\n",
            "Corresponding code: EL04\n",
            "Corresponding code: AA01\n",
            "Corresponding code: FFN02\n",
            "Corresponding code: TB03\n",
            "Corresponding code: FL01\n",
            "Corresponding code: AA01\n",
            "Corresponding code: EEE07\n",
            "Corresponding code: CL01\n",
            "Topics for Louisiana Tech University -1.docx:\n",
            "['credit', '0-3-3', 'application', 'study', 'hour', 'health', 'information', 'informatics', 'semester', 'system', 'healthcare']\n",
            "\n",
            "Corresponding code: AA01\n",
            "Corresponding code: AA01\n",
            "Corresponding code: AAE08\n",
            "Corresponding code: CCA11\n",
            "Corresponding code: AA01\n",
            "Corresponding code: EL04\n",
            "Corresponding code: FFN02\n",
            "Corresponding code: FFB04\n",
            "Corresponding code: AA01\n",
            "Corresponding code: EEE07\n",
            "Corresponding code: EEN15\n",
            "Topics for Marshall University-1.docx:\n",
            "['credit', 'management', 'care', 'hour', 'health', 'student', 'technology', 'data', 'information', 'program', 'informatics', 'system']\n",
            "\n",
            "Corresponding code: AA01\n",
            "Corresponding code: FN08\n",
            "Corresponding code: BN01\n",
            "Corresponding code: AA01\n",
            "Corresponding code: EL04\n",
            "Corresponding code: AA01\n",
            "Corresponding code: JB05\n",
            "Corresponding code: GL03\n",
            "Corresponding code: FFN02\n",
            "Corresponding code: BBN07\n",
            "Corresponding code: FFB04\n",
            "Corresponding code: EEE07\n",
            "Topics for Illinois at Chicago-2.docx:\n",
            "['course', 'consent', 'online', 'hour', 'health', 'student', 'prerequisite', 'data', 'required', 'science', 'grade', 'information', 'bhis', 'computer', 'healthcare']\n",
            "\n",
            "Corresponding code: AA01\n",
            "Corresponding code: PN05\n",
            "Corresponding code: GE04\n",
            "Corresponding code: AA01\n",
            "Corresponding code: EL04\n",
            "Corresponding code: AA01\n",
            "Corresponding code: AA01\n",
            "Corresponding code: GL03\n",
            "Corresponding code: BBN08\n",
            "Corresponding code: DDN08\n",
            "Corresponding code: AA01\n",
            "Corresponding code: FFN02\n",
            "Corresponding code: AA01\n",
            "Corresponding code: GL04\n",
            "Corresponding code: EEN15\n",
            "Topics for Illinois at Chicago-3.docx:\n",
            "['management', 'leadership', 'project', 'consent', 'hour', 'health', 'prerequisite', 'information', 'student', 'bhis', 'informatics', 'healthcare']\n",
            "\n",
            "Corresponding code: FN08\n",
            "Corresponding code: TE09\n",
            "Corresponding code: BBA03\n",
            "Corresponding code: PN05\n",
            "Corresponding code: AA01\n",
            "Corresponding code: EL04\n",
            "Corresponding code: AA01\n",
            "Corresponding code: FFN02\n",
            "Corresponding code: AA01\n",
            "Corresponding code: AA01\n",
            "Corresponding code: FFB04\n",
            "Corresponding code: EEN15\n",
            "Topics for Illinois at Chicago-1.docx:\n",
            "['use', 'course', 'mobile', 'consumer', 'hour', 'information', 'health', 'technology', 'required', 'student', 'prerequisite', 'bhis', 'informatics', 'computer', 'method']\n",
            "\n",
            "Corresponding code: PL04\n",
            "Corresponding code: AA01\n",
            "Corresponding code: IB01\n",
            "Corresponding code: AB02\n",
            "Corresponding code: AA01\n",
            "Corresponding code: FFN02\n",
            "Corresponding code: EL04\n",
            "Corresponding code: JB05\n",
            "Corresponding code: BBN08\n",
            "Corresponding code: AA01\n",
            "Corresponding code: AA01\n",
            "Corresponding code: AA01\n",
            "Corresponding code: FFB04\n",
            "Corresponding code: GL04\n",
            "Corresponding code: AA01\n",
            "Topics for Illinois at Chicago.docx:\n",
            "['course', 'consent', 'hour', 'health', 'information', 'prerequisite', 'data', 'instructor.bhis', 'bhis', 'informatics', '510', 'healthcare']\n",
            "\n",
            "Corresponding code: AA01\n",
            "Corresponding code: PN05\n",
            "Corresponding code: AA01\n",
            "Corresponding code: EL04\n",
            "Corresponding code: FFN02\n",
            "Corresponding code: AA01\n",
            "Corresponding code: GL03\n",
            "Corresponding code: AA01\n",
            "Corresponding code: AA01\n",
            "Corresponding code: FFB04\n",
            "Corresponding code: AA01\n",
            "Corresponding code: EEN15\n",
            "Topics for Indiana University - 1.docx:\n",
            "['research', 'course', 'design', 'project', 'human', 'technology', 'information', 'health', 'data', 'patient', 'informatics', 'factor', 'clinical', 'system', 'healthcare']\n",
            "\n",
            "Corresponding code: CN14\n",
            "Corresponding code: AA01\n",
            "Corresponding code: KB02\n",
            "Corresponding code: BBA03\n",
            "Corresponding code: GGN05\n",
            "Corresponding code: JB05\n",
            "Corresponding code: FFN02\n",
            "Corresponding code: EL04\n",
            "Corresponding code: GL03\n",
            "Corresponding code: ON06\n",
            "Corresponding code: FFB04\n",
            "Corresponding code: EEN29\n",
            "Corresponding code: DN11\n",
            "Corresponding code: EEE07\n",
            "Corresponding code: EEN15\n",
            "Topics for George Mason University-5.docx:\n",
            "['offered', 'course', 'management', 'standard', 'information', 'student', 'health', 'data', 'understand', 'tool', 'informatics', 'database', 'system', 'healthcare']\n",
            "\n",
            "Corresponding code: JN06\n",
            "Corresponding code: AA01\n",
            "Corresponding code: FN08\n",
            "Corresponding code: YE01\n",
            "Corresponding code: FFN02\n",
            "Corresponding code: AA01\n",
            "Corresponding code: EL04\n",
            "Corresponding code: GL03\n",
            "Corresponding code: HB07\n",
            "Corresponding code: JL02\n",
            "Corresponding code: FFB04\n",
            "Corresponding code: GB05\n",
            "Corresponding code: EEE07\n",
            "Corresponding code: EEN15\n",
            "Topics for Drexel University.docx:\n",
            "['course', '3.0', 'design', 'health', 'student', 'information', 'data', 'science', 'experience', 'analysis', 'method', 'database', 'system', 'healthcare']\n",
            "\n",
            "Corresponding code: AA01\n",
            "Corresponding code: AA01\n",
            "Corresponding code: KB02\n",
            "Corresponding code: EL04\n",
            "Corresponding code: AA01\n",
            "Corresponding code: FFN02\n",
            "Corresponding code: GL03\n",
            "Corresponding code: DDN08\n",
            "Corresponding code: GN33\n",
            "Corresponding code: GB16\n",
            "Corresponding code: AA01\n",
            "Corresponding code: GB05\n",
            "Corresponding code: EEE07\n",
            "Corresponding code: EEN15\n",
            "Topics for East Carolina University.docx:\n",
            "['curriculum', 'management', 'knowledge', 'internship', 'care', 'degree', 'information', 'health', 'student', 'data', 'cohe', 'informatics', 'ms-hiim']\n",
            "\n",
            "Corresponding code: AA01\n",
            "Corresponding code: FN08\n",
            "Corresponding code: AAE03\n",
            "Corresponding code: AA01\n",
            "Corresponding code: BN01\n",
            "Corresponding code: HL03\n",
            "Corresponding code: FFN02\n",
            "Corresponding code: EL04\n",
            "Corresponding code: AA01\n",
            "Corresponding code: GL03\n",
            "Corresponding code: AA01\n",
            "Corresponding code: FFB04\n",
            "Corresponding code: AA01\n",
            "Topics for Boston University-MS in Applied Data Analytics Concentration.docx:\n",
            "['course', 'management', 'cr', 'analytics', 'information', 'c', 'met', 'data', 'health', 'student', 'medical', 'system', 'concept']\n",
            "\n",
            "Corresponding code: AA01\n",
            "Corresponding code: FN08\n",
            "Corresponding code: AA01\n",
            "Corresponding code: CN15\n",
            "Corresponding code: FFN02\n",
            "Corresponding code: AA01\n",
            "Corresponding code: EEN06\n",
            "Corresponding code: GL03\n",
            "Corresponding code: EL04\n",
            "Corresponding code: AA01\n",
            "Corresponding code: JL07\n",
            "Corresponding code: EEE07\n",
            "Corresponding code: CL01\n",
            "Topics for Boston University- Msc. HI-Health Information Concentration_.docx:\n",
            "['course', 'management', 'design', 'cr', 'health', 'information', 'met', 'student', 'c', 'medical', 'development', 'system', 'concept']\n",
            "\n",
            "Corresponding code: AA01\n",
            "Corresponding code: FN08\n",
            "Corresponding code: KB02\n",
            "Corresponding code: AA01\n",
            "Corresponding code: EL04\n",
            "Corresponding code: FFN02\n",
            "Corresponding code: EEN06\n",
            "Corresponding code: AA01\n",
            "Corresponding code: AA01\n",
            "Corresponding code: JL07\n",
            "Corresponding code: TB03\n",
            "Corresponding code: EEE07\n",
            "Corresponding code: CL01\n",
            "Topics for Florida International University-1.docx:\n",
            "['course', 'project', 'care', 'student', 'health', 'information', 'data', 'informatics', 'quality', 'system', 'healthcare']\n",
            "\n",
            "Corresponding code: AA01\n",
            "Corresponding code: BBA03\n",
            "Corresponding code: BN01\n",
            "Corresponding code: AA01\n",
            "Corresponding code: EL04\n",
            "Corresponding code: FFN02\n",
            "Corresponding code: GL03\n",
            "Corresponding code: FFB04\n",
            "Corresponding code: TB07\n",
            "Corresponding code: EEE07\n",
            "Corresponding code: EEN15\n",
            "Topics for Boston University - Msc. HI - General -2.docx:\n",
            "['course', 'design', 'management', 'information', 'health', 'c', 'data', 'met', 'system', 'healthcare', 'concept']\n",
            "\n",
            "Corresponding code: AA01\n",
            "Corresponding code: KB02\n",
            "Corresponding code: FN08\n",
            "Corresponding code: FFN02\n",
            "Corresponding code: EL04\n",
            "Corresponding code: AA01\n",
            "Corresponding code: GL03\n",
            "Corresponding code: EEN06\n",
            "Corresponding code: EEE07\n",
            "Corresponding code: EEN15\n",
            "Corresponding code: CL01\n",
            "Topics for University of Cincinnati - MHI.docx:\n",
            "['course', 'management', 'project', 'technology', 'student', 'information', 'health', 'data', 'topic', 'informatics', 'healthcare']\n",
            "\n",
            "Corresponding code: AA01\n",
            "Corresponding code: FN08\n",
            "Corresponding code: BBA03\n",
            "Corresponding code: JB05\n",
            "Corresponding code: AA01\n",
            "Corresponding code: FFN02\n",
            "Corresponding code: EL04\n",
            "Corresponding code: GL03\n",
            "Corresponding code: AA01\n",
            "Corresponding code: FFB04\n",
            "Corresponding code: EEN15\n",
            "Topics for University of South Florida.docx:\n",
            "['designed', 'course', 'management', 'provide', 'study', '3this', 'information', 'health', 'student', 'data', 'informatics', 'healthcare', 'discussion']\n",
            "\n",
            "Corresponding code: AA01\n",
            "Corresponding code: AA01\n",
            "Corresponding code: FN08\n",
            "Corresponding code: OB02\n",
            "Corresponding code: CCA11\n",
            "Corresponding code: AA01\n",
            "Corresponding code: FFN02\n",
            "Corresponding code: EL04\n",
            "Corresponding code: AA01\n",
            "Corresponding code: GL03\n",
            "Corresponding code: FFB04\n",
            "Corresponding code: EEN15\n",
            "Corresponding code: AA01\n",
            "Topics for University of Washington_MHIHIM.docx:\n",
            "['business', 'management', 'course', 'enterprise', 'care', 'organization', '3this', 'electronic', 'information', 'health', 'cover', 'data', 'system']\n",
            "\n",
            "Corresponding code: EEA23\n",
            "Corresponding code: FN08\n",
            "Corresponding code: AA01\n",
            "Corresponding code: PE13\n",
            "Corresponding code: BN01\n",
            "Corresponding code: RA08\n",
            "Corresponding code: AA01\n",
            "Corresponding code: MA02\n",
            "Corresponding code: FFN02\n",
            "Corresponding code: EL04\n",
            "Corresponding code: AA01\n",
            "Corresponding code: GL03\n",
            "Corresponding code: EEE07\n",
            "Topics for University of Mississippi.docx:\n",
            "['prepares', 'management', 'track', 'care', '3hi', 'electronic', 'information', 'health', 'program', 'data', 'informatics', 'graduate', 'system']\n",
            "\n",
            "Corresponding code: AA01\n",
            "Corresponding code: FN08\n",
            "Corresponding code: LB08\n",
            "Corresponding code: BN01\n",
            "Corresponding code: AA01\n",
            "Corresponding code: MA02\n",
            "Corresponding code: FFN02\n",
            "Corresponding code: EL04\n",
            "Corresponding code: BBN07\n",
            "Corresponding code: GL03\n",
            "Corresponding code: FFB04\n",
            "Corresponding code: AA01\n",
            "Corresponding code: EEE07\n",
            "Topics for University of Missouri.docx:\n",
            "['course', 'knowledge', 'care', 'application', 'hour', 'information', 'health', 'data', 'decision', 'analysis', 'consumer', 'informatics', 'system', 'healthcare', 'use']\n",
            "\n",
            "Corresponding code: AA01\n",
            "Corresponding code: AAE03\n",
            "Corresponding code: BN01\n",
            "Corresponding code: AAE08\n",
            "Corresponding code: AA01\n",
            "Corresponding code: FFN02\n",
            "Corresponding code: EL04\n",
            "Corresponding code: GL03\n",
            "Corresponding code: CE02\n",
            "Corresponding code: GB16\n",
            "Corresponding code: AB02\n",
            "Corresponding code: FFB04\n",
            "Corresponding code: EEE07\n",
            "Corresponding code: EEN15\n",
            "Corresponding code: PL04\n"
          ]
        }
      ]
    },
    {
      "cell_type": "code",
      "source": [],
      "metadata": {
        "id": "tduLPexIW2xh"
      },
      "execution_count": null,
      "outputs": []
    }
  ]
}